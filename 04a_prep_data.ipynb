{
 "cells": [
  {
   "cell_type": "code",
   "execution_count": 1,
   "id": "f64408a2-aadb-4fb1-a23b-56a872602403",
   "metadata": {},
   "outputs": [],
   "source": [
    "import pandas as pd\n",
    "from datasets import load_dataset\n",
    "import json\n",
    "from tqdm import tqdm"
   ]
  },
  {
   "cell_type": "markdown",
   "id": "55a0a203-1518-4546-9c0d-dfe2e3126c30",
   "metadata": {},
   "source": [
    "## The Prepared data"
   ]
  },
  {
   "cell_type": "markdown",
   "id": "12b8cf9a-bc0e-4796-9423-f31485d9f61f",
   "metadata": {},
   "source": [
    "Honeycomb data conversations"
   ]
  },
  {
   "cell_type": "code",
   "execution_count": 2,
   "id": "a59a4887-5f78-48a2-8d47-1e49924c8bc1",
   "metadata": {},
   "outputs": [
    {
     "name": "stdout",
     "output_type": "stream",
     "text": [
      "{\n",
      "    \"conversations\": [\n",
      "        {\n",
      "            \"from\": \"system\",\n",
      "            \"value\": \"Honeycomb is an observability platform that allows you to write queries to inspect trace data. You are an assistant that takes a natural language query (NLQ) and a list of valid columns and produce a Honeycomb query.\"\n",
      "        },\n",
      "        {\n",
      "            \"from\": \"human\",\n",
      "            \"value\": \"\\n\\nNLQ: \\\"group by HTTP method\\\"\\n\\nColumns: ['query_string_num_tokens', 'query_string_length', 'data_queries', 'http.target', 'task.id', 'trace_root.http.target', 'topic', 'http.host', 'total_hits', 'db.user', 'domain_types', 'db.name', 'graphql.document', 'history', 'http.scheme', 'http.method', 'frontend.version', 'disposition_for_dBVVysC8x4Ymwg9rtjMckgw9', 'db.system', 'event_name', 'organization', 'auth.logout', 'organizations', 'name', 'net.transport', 'db.operation', 'disposition_for_UvsPPBVUn9FDuzDjsjYCqopq', 'disposition_for_1RUGSd7GdnP5tuKdgqBRZUm2', 'process.pid', 'disposition_for_6uyAoBc3PuvEcTTPFgPM3Rtk', 'exception.stacktrace', 'data_ingestion_individuals_count', 'disposition_for_qrnUBUz8YBfNX7Liekq6nKi3', 'task_type.type', 'disposition_for_JQDNbuUdaQcEbEwQNxUbV5EF', 'disposition_for_rAcWoXfbHw4eWoJFH4ZcY8ue', 'disposition_for_eShqQoC9jUi9VQBidpp2oXHP', 'parent_name', 'template', 'graphql.operation.name', 'span.num_links', 'disposition_for_kNSPtvsCWkDoEyFP2QE6VPmQ', 'disposition_for_UUqf9L1qkFxDNEvcgsVMA2yy', 'disposition_for_vwbbN76HZ7uitLubvkUjPFQE', 'disposition_for_aAto1pGrdF5RunpSX8sY5hvn', 'disposition_for_UbKCMdnkPQ6TuHrfdBo5juZu', 'disposition_for_QfrvmoHxSgLPJXPKZCrZfGo8', 'disposition_for_NoKSSruBRCX6UG28PzmkybUd', 'disposition_for_UZAqvZ5XVBZjKKWuMeRkRayS', 'organization_token', 'duration_ms', 'trace.parent_id', 'db.statement', 'exception.message', 'error', 'service.name', 'http.status_code', 'http.route']\"\n",
      "        },\n",
      "        {\n",
      "            \"from\": \"gpt\",\n",
      "            \"value\": \"\\n{\\\"breakdowns\\\": [\\\"http.method\\\"], \\\"calculations\\\": [{\\\"op\\\": \\\"COUNT\\\"}], \\\"time_range\\\": 7200}\"\n",
      "        }\n",
      "    ]\n",
      "}\n"
     ]
    }
   ],
   "source": [
    "!head -n1 sample_data/alpaca_synth_queries.jsonl | python -m json.tool --json-lines"
   ]
  },
  {
   "cell_type": "markdown",
   "id": "b809fff9-0435-4b7b-9391-b5ee12979445",
   "metadata": {},
   "source": [
    "Cypher data conversations"
   ]
  },
  {
   "cell_type": "code",
   "execution_count": 7,
   "id": "474c08fb-88b5-4256-9eb0-5daac4cd47a9",
   "metadata": {},
   "outputs": [],
   "source": [
    "dataset = load_dataset(\"vedana17/text-to-cypher\")"
   ]
  },
  {
   "cell_type": "code",
   "execution_count": 8,
   "id": "36c20422-717f-48e6-9630-f68df04bac89",
   "metadata": {},
   "outputs": [
    {
     "data": {
      "text/plain": [
       "dict_items([('train', Dataset({\n",
       "    features: ['query', 'schema', 'result'],\n",
       "    num_rows: 235\n",
       "}))])"
      ]
     },
     "execution_count": 8,
     "metadata": {},
     "output_type": "execute_result"
    }
   ],
   "source": [
    "(dataset.items())"
   ]
  },
  {
   "cell_type": "markdown",
   "id": "1ad2f749-a9a3-4c8f-bb3c-aa9d2e7eae24",
   "metadata": {},
   "source": [
    "Synthesize data"
   ]
  },
  {
   "cell_type": "code",
   "execution_count": 10,
   "id": "b014778b-cfca-4c2c-bdb3-51353ecaeb61",
   "metadata": {},
   "outputs": [
    {
     "name": "stderr",
     "output_type": "stream",
     "text": [
      "235it [00:00, 1179.58it/s]\n"
     ]
    }
   ],
   "source": [
    "OUT_JSONL = \"sample_data/alpaca_synth_cypher.jsonl\"\n",
    "\n",
    "\n",
    "with open(OUT_JSONL, 'w') as outfile:\n",
    "    for split, data in dataset.items():\n",
    "        for q, s, r in tqdm(zip(data['query'], data['schema'], data['result'])):\n",
    "            alpaca_dict = {\n",
    "                \"conversations\": [\n",
    "                    {\n",
    "                        \"from\": \"system\", \n",
    "                        \"value\": \"You are an assistant that takes a natural language query (NLQ) and a graph database schema to produce a Neo4J Cypher query.\"\n",
    "                    }, \n",
    "                    {\n",
    "                        \"from\": \"human\", \n",
    "                        \"value\": f\"\\n\\nNLQ: {q} \\n\\nSchema: {s}\"\n",
    "                    }, \n",
    "                    {\n",
    "                        \"from\": \"gpt\", \n",
    "                        \"value\": r\n",
    "                    }\n",
    "                ]\n",
    "            }\n",
    "            json.dump(alpaca_dict, outfile)\n",
    "            outfile.write('\\n')\n",
    "\n",
    "# alpaca_dict.json_dumps(f\"sample_data/cypher_alp_synth_test.jsonl\")"
   ]
  },
  {
   "cell_type": "code",
   "execution_count": 2,
   "id": "e455cf84-8d14-48b5-bac6-9763ff978812",
   "metadata": {},
   "outputs": [
    {
     "name": "stdout",
     "output_type": "stream",
     "text": [
      "{\n",
      "    \"conversations\": [\n",
      "        {\n",
      "            \"from\": \"system\",\n",
      "            \"value\": \"You are an assistant that takes a natural language query (NLQ) and a graph database schema to produce a Neo4J Cypher query.\"\n",
      "        },\n",
      "        {\n",
      "            \"from\": \"human\",\n",
      "            \"value\": \"\\n\\nNLQ: Find all Officers whose name contains 'Dupond' and their associated entities, addresses and relationships. \\n\\nSchema: Node properties are the following: \\\":Entity {countries: STRING, lastEditTimestamp: STRING, ibcRUC: STRING, valid_until: STRING, country_codes: STRING, service_provider: STRING, address: STRING, inactivation_date: STRING, struck_off_date: STRING, status: STRING, jurisdiction_description: STRING, incorporation_date: STRING, original_name: STRING, jurisdiction: STRING, internal_id: STRING, name: STRING, node_id: INTEGER, sourceID: STRING, former_name: STRING, tax_stat_description: STRING, company_type: STRING, note: STRING, dorm_date: STRING, type: STRING, closed_date: STRING, company_number: STRING, comments: STRING, entity_number: STRING},:Intermediary {lastEditTimestamp: STRING, country_codes: STRING, countries: STRING, status: STRING, address: STRING, valid_until: STRING, name: STRING, node_id: INTEGER, sourceID: STRING, internal_id: STRING, note: STRING, registered_office: STRING},:Officer {valid_until: STRING, sourceID: STRING, name: STRING, icij_id: STRING, node_id: INTEGER, lastEditTimestamp: STRING, country_codes: STRING, countries: STRING, note: STRING, status: STRING},:Address {original_address: STRING, lastEditTimestamp: STRING, countries: STRING, address: STRING, valid_until: STRING, icij_id: STRING, node_id: INTEGER, sourceID: STRING, country_codes: STRING, note: STRING, name: STRING, addressID: STRING, country_code: STRING, country: STRING},:Other {incorporation_date: STRING, valid_until: STRING, name: STRING, jurisdiction: STRING, closed_date: STRING, jurisdiction_description: STRING, node_id: INTEGER, sourceID: STRING, lastEditTimestamp: STRING, type: STRING, note: STRING, struck_off_date: STRING, countries: STRING, country_codes: STRING}\\\" Relationship properties are the following: \\\":registered_address {link: STRING, sourceID: STRING, valid_until: STRING, lastEditTimestamp: STRING},:intermediary_of {valid_until: STRING, sourceID: STRING, link: STRING, end_date: STRING, start_date: STRING, lastEditTimestamp: STRING},:officer_of {link: STRING, valid_until: STRING, sourceID: STRING, start_date: STRING, end_date: STRING, status: STRING, lastEditTimestamp: STRING},:underlying {link: STRING, valid_until: STRING, sourceID: STRING, lastEditTimestamp: STRING},:similar {link: STRING},:same_as {link: STRING},:same_name_as {sourceID: STRING, link: STRING, valid_until: STRING, lastEditTimestamp: STRING},:same_company_as {valid_until: STRING, sourceID: STRING, link: STRING},:same_intermediary_as {link: STRING, valid_until: STRING, sourceID: STRING},:similar_company_as {valid_until: STRING, sourceID: STRING, link: STRING},:probably_same_officer_as {link: STRING, valid_until: STRING, sourceID: STRING},:same_id_as {sourceID: STRING, link: STRING, valid_until: STRING},:connected_to {valid_until: STRING, link: STRING, sourceID: STRING}\\\" Relationship point from source to target nodes \\\"(:Entity)-[:registered_address]->(:Address),(:Entity)-[:same_as]->(:Entity),(:Entity)-[:same_company_as]->(:Entity),(:Entity)-[:similar_company_as]->(:Entity),(:Entity)-[:same_name_as]->(:Officer),(:Intermediary)-[:intermediary_of]->(:Entity),(:Intermediary)-[:similar]->(:Intermediary),(:Intermediary)-[:registered_address]->(:Address),(:Intermediary)-[:officer_of]->(:Entity),(:Intermediary)-[:underlying]->(:Officer),(:Intermediary)-[:same_intermediary_as]->(:Intermediary),(:Intermediary)-[:same_name_as]->(:Intermediary),(:Intermediary)-[:connected_to]->(:Entity),(:Intermediary)-[:same_as]->(:Officer),(:Officer)-[:officer_of]->(:Entity),(:Officer)-[:registered_address]->(:Address),(:Officer)-[:similar]->(:Officer),(:Officer)-[:intermediary_of]->(:Entity),(:Officer)-[:underlying]->(:Officer),(:Officer)-[:same_name_as]->(:Officer),(:Officer)-[:probably_same_officer_as]->(:Officer),(:Officer)-[:connected_to]->(:Entity),(:Officer)-[:same_id_as]->(:Officer),(:Address)-[:same_as]->(:Address),(:Other)-[:registered_address]->(:Address),(:Other)-[:connected_to]->(:Entity),(:Other)-[:same_name_as]->(:Entity),(:Other)-[:underlying]->(:Entity)\\\"\"\n",
      "        },\n",
      "        {\n",
      "            \"from\": \"gpt\",\n",
      "            \"value\": \"MATCH (o:Officer)-[of:officer_of]->(e:Entity)-[ra:registered_address]->(a:Address) WHERE toLower(o.name) CONTAINS toLower('dupond') RETURN o, of, e, ra, a\"\n",
      "        }\n",
      "    ]\n",
      "}\n",
      "{\n",
      "    \"conversations\": [\n",
      "        {\n",
      "            \"from\": \"system\",\n",
      "            \"value\": \"You are an assistant that takes a natural language query (NLQ) and a graph database schema to produce a Neo4J Cypher query.\"\n",
      "        },\n",
      "        {\n",
      "            \"from\": \"human\",\n",
      "            \"value\": \"\\n\\nNLQ: Find all Officers whose names contain 'Dupuis', along with their associated entities, addresses and relationships. \\n\\nSchema: Node properties are the following: \\\":Entity {countries: STRING, lastEditTimestamp: STRING, ibcRUC: STRING, valid_until: STRING, country_codes: STRING, service_provider: STRING, address: STRING, inactivation_date: STRING, struck_off_date: STRING, status: STRING, jurisdiction_description: STRING, incorporation_date: STRING, original_name: STRING, jurisdiction: STRING, internal_id: STRING, name: STRING, node_id: INTEGER, sourceID: STRING, former_name: STRING, tax_stat_description: STRING, company_type: STRING, note: STRING, dorm_date: STRING, type: STRING, closed_date: STRING, company_number: STRING, comments: STRING, entity_number: STRING},:Intermediary {lastEditTimestamp: STRING, country_codes: STRING, countries: STRING, status: STRING, address: STRING, valid_until: STRING, name: STRING, node_id: INTEGER, sourceID: STRING, internal_id: STRING, note: STRING, registered_office: STRING},:Officer {valid_until: STRING, sourceID: STRING, name: STRING, icij_id: STRING, node_id: INTEGER, lastEditTimestamp: STRING, country_codes: STRING, countries: STRING, note: STRING, status: STRING},:Address {original_address: STRING, lastEditTimestamp: STRING, countries: STRING, address: STRING, valid_until: STRING, icij_id: STRING, node_id: INTEGER, sourceID: STRING, country_codes: STRING, note: STRING, name: STRING, addressID: STRING, country_code: STRING, country: STRING},:Other {incorporation_date: STRING, valid_until: STRING, name: STRING, jurisdiction: STRING, closed_date: STRING, jurisdiction_description: STRING, node_id: INTEGER, sourceID: STRING, lastEditTimestamp: STRING, type: STRING, note: STRING, struck_off_date: STRING, countries: STRING, country_codes: STRING}\\\" Relationship properties are the following: \\\":registered_address {link: STRING, sourceID: STRING, valid_until: STRING, lastEditTimestamp: STRING},:intermediary_of {valid_until: STRING, sourceID: STRING, link: STRING, end_date: STRING, start_date: STRING, lastEditTimestamp: STRING},:officer_of {link: STRING, valid_until: STRING, sourceID: STRING, start_date: STRING, end_date: STRING, status: STRING, lastEditTimestamp: STRING},:underlying {link: STRING, valid_until: STRING, sourceID: STRING, lastEditTimestamp: STRING},:similar {link: STRING},:same_as {link: STRING},:same_name_as {sourceID: STRING, link: STRING, valid_until: STRING, lastEditTimestamp: STRING},:same_company_as {valid_until: STRING, sourceID: STRING, link: STRING},:same_intermediary_as {link: STRING, valid_until: STRING, sourceID: STRING},:similar_company_as {valid_until: STRING, sourceID: STRING, link: STRING},:probably_same_officer_as {link: STRING, valid_until: STRING, sourceID: STRING},:same_id_as {sourceID: STRING, link: STRING, valid_until: STRING},:connected_to {valid_until: STRING, link: STRING, sourceID: STRING}\\\" Relationship point from source to target nodes \\\"(:Entity)-[:registered_address]->(:Address),(:Entity)-[:same_as]->(:Entity),(:Entity)-[:same_company_as]->(:Entity),(:Entity)-[:similar_company_as]->(:Entity),(:Entity)-[:same_name_as]->(:Officer),(:Intermediary)-[:intermediary_of]->(:Entity),(:Intermediary)-[:similar]->(:Intermediary),(:Intermediary)-[:registered_address]->(:Address),(:Intermediary)-[:officer_of]->(:Entity),(:Intermediary)-[:underlying]->(:Officer),(:Intermediary)-[:same_intermediary_as]->(:Intermediary),(:Intermediary)-[:same_name_as]->(:Intermediary),(:Intermediary)-[:connected_to]->(:Entity),(:Intermediary)-[:same_as]->(:Officer),(:Officer)-[:officer_of]->(:Entity),(:Officer)-[:registered_address]->(:Address),(:Officer)-[:similar]->(:Officer),(:Officer)-[:intermediary_of]->(:Entity),(:Officer)-[:underlying]->(:Officer),(:Officer)-[:same_name_as]->(:Officer),(:Officer)-[:probably_same_officer_as]->(:Officer),(:Officer)-[:connected_to]->(:Entity),(:Officer)-[:same_id_as]->(:Officer),(:Address)-[:same_as]->(:Address),(:Other)-[:registered_address]->(:Address),(:Other)-[:connected_to]->(:Entity),(:Other)-[:same_name_as]->(:Entity),(:Other)-[:underlying]->(:Entity)\\\"\"\n",
      "        },\n",
      "        {\n",
      "            \"from\": \"gpt\",\n",
      "            \"value\": \"MATCH (o:Officer)-[of:officer_of]->(e:Entity)-[ra:registered_address]->(a:Address) WHERE toLower(o.name) CONTAINS toLower('dupuis') RETURN o, of, e, ra, a\"\n",
      "        }\n",
      "    ]\n",
      "}\n"
     ]
    }
   ],
   "source": [
    "!head -n2 sample_data/alpaca_synth_cypher.jsonl | python -m json.tool --json-lines"
   ]
  },
  {
   "cell_type": "code",
   "execution_count": null,
   "id": "b29cf0b6-bcd7-40e6-9ab7-a1fdba6053b9",
   "metadata": {},
   "outputs": [],
   "source": []
  },
  {
   "cell_type": "code",
   "execution_count": null,
   "id": "a12ab2d2-e565-40db-9fb0-2ef729fa9f00",
   "metadata": {},
   "outputs": [],
   "source": []
  },
  {
   "cell_type": "markdown",
   "id": "18d4dac6-7d00-4092-8f39-93ebbc7caefe",
   "metadata": {},
   "source": [
    "## The Config\n",
    "\n",
    "Pay close attention to `datasets` and `train_on_inputs`"
   ]
  },
  {
   "cell_type": "code",
   "execution_count": 5,
   "id": "6e967700-792c-4d5c-b05e-20030b765550",
   "metadata": {},
   "outputs": [
    {
     "name": "stdout",
     "output_type": "stream",
     "text": [
      "base_model: Qwen/CodeQwen1.5-7B-Chat\n",
      "model_type: AutoModelForCausalLM\n",
      "tokenizer_type: AutoTokenizer\n",
      "is_mistral_derived_model: false\n",
      "\n",
      "load_in_8bit: false\n",
      "load_in_4bit: true\n",
      "strict: false\n",
      "\n",
      "lora_fan_in_fan_out: false\n",
      "data_seed: 49\n",
      "seed: 49\n",
      "\n",
      "datasets:\n",
      "  - path: sample_data/alpaca_synth_cypher.jsonl\n",
      "    type: sharegpt\n",
      "    conversation: alpaca\n",
      "dataset_prepared_path: last_run_prepared\n",
      "val_set_size: 0.1\n",
      "output_dir: ./qlora-alpaca-out\n",
      "# hub_model_id: jermyn/CodeQwen1.5-7B-Chat-NLQ2Cypher\n",
      "\n",
      "adapter: qlora\n",
      "lora_model_dir:\n",
      "\n",
      "sequence_len: 896\n",
      "sample_packing: false\n",
      "pad_to_sequence_len: true\n",
      "\n",
      "lora_r: 32\n",
      "lora_alpha: 16\n",
      "lora_dropout: 0.05\n",
      "lora_target_linear: true\n",
      "lora_fan_in_fan_out:\n",
      "lora_target_modules:\n",
      "  - gate_proj\n",
      "  - down_proj\n",
      "  - up_proj\n",
      "  - q_proj\n",
      "  - v_proj\n",
      "  - k_proj\n",
      "  - o_proj\n",
      "\n",
      "# If you added new tokens to the tokenizer, you may need to save some LoRA modules because they need to know the new tokens.\n",
      "# For LLaMA and Mistral, you need to save `embed_tokens` and `lm_head`. It may vary for other models.\n",
      "# `embed_tokens` converts tokens to embeddings, and `lm_head` converts embeddings to token probabilities.\n",
      "# https://github.com/huggingface/peft/issues/334#issuecomment-1561727994\n",
      "lora_modules_to_save:\n",
      "  - embed_tokens\n",
      "  - lm_head\n",
      "\n",
      "wandb_project: fine-tune-axolotl\n",
      "wandb_entity: jermyn\n",
      "\n",
      "gradient_accumulation_steps: 1\n",
      "micro_batch_size: 8\n",
      "eval_batch_size: 8\n",
      "num_epochs: 6\n",
      "optimizer: adamw_bnb_8bit\n",
      "lr_scheduler: cosine\n",
      "learning_rate: 0.0005\n",
      "max_grad_norm: 1.0\n",
      "adam_beta2: 0.95\n",
      "adam_epsilon: 0.00001\n",
      "\n",
      "train_on_inputs: false\n",
      "group_by_length: false\n",
      "bf16: true\n",
      "fp16: false\n",
      "tf32: false\n",
      "\n",
      "gradient_checkpointing: true\n",
      "early_stopping_patience:\n",
      "resume_from_checkpoint:\n",
      "local_rank:\n",
      "logging_steps: 1\n",
      "xformers_attention:\n",
      "flash_attention: true\n",
      "\n",
      "loss_watchdog_threshold: 5.0\n",
      "loss_watchdog_patience: 3\n",
      "\n",
      "warmup_steps: 10\n",
      "evals_per_epoch: 4\n",
      "eval_table_size:\n",
      "eval_table_max_new_tokens: 128\n",
      "# saves_per_epoch: 6\n",
      "save_steps: 10\n",
      "save_total_limit: 3\n",
      "debug:\n",
      "weight_decay: 0.0\n",
      "fsdp:\n",
      "fsdp_config:\n",
      "special_tokens:\n",
      "  bos_token: \"<s>\"\n",
      "  eos_token: \"</s>\"\n",
      "  unk_token: \"<unk>\"\n",
      "save_safetensors: true\n"
     ]
    }
   ],
   "source": [
    "!cat cypher.yml"
   ]
  },
  {
   "cell_type": "markdown",
   "id": "205baf5c-09cd-46ff-a34d-c85c0b73fac3",
   "metadata": {},
   "source": [
    "### HF & WandB\n",
    "\n",
    "You need to change the following things in your config\n",
    "\n",
    "```yaml\n",
    "wandb_project: hc-axolotl-mistral\n",
    "wandb_entity: hamelsmu\n",
    "hub_model_id: hamel/hc-mistral-alpaca\n",
    "```"
   ]
  },
  {
   "cell_type": "code",
   "execution_count": null,
   "id": "69963411-bdbf-4b5b-845b-89cd4f1636e2",
   "metadata": {},
   "outputs": [],
   "source": []
  },
  {
   "cell_type": "markdown",
   "id": "bd4ec546-7ff5-4255-ab23-5596bc8e4ec3",
   "metadata": {},
   "source": [
    "## Do the Preprocessing"
   ]
  },
  {
   "cell_type": "code",
   "execution_count": 6,
   "id": "73458bf9-c89a-43dd-9c32-79e202a057a6",
   "metadata": {},
   "outputs": [
    {
     "name": "stdout",
     "output_type": "stream",
     "text": [
      "WARNING: BNB_CUDA_VERSION=118 environment variable detected; loading libbitsandbytes_cuda118.so.\n",
      "This can be used to load a bitsandbytes version that is different from the PyTorch CUDA version.\n",
      "If this was unintended set the BNB_CUDA_VERSION variable to an empty string: export BNB_CUDA_VERSION=\n",
      "If you use the manual override make sure the right libcudart.so is in your LD_LIBRARY_PATH\n",
      "For example by adding the following to your .bashrc: export LD_LIBRARY_PATH=$LD_LIBRARY_PATH:<path_to_cuda_dir/lib64\n",
      "\n",
      "[2024-06-01 03:21:56,001] [INFO] [datasets.<module>:58] [PID:1020] PyTorch version 2.1.2+cu118 available.\n",
      "[2024-06-01 03:21:57,025] [INFO] [real_accelerator.py:203:get_accelerator] Setting ds_accelerator to cuda (auto detect)\n",
      "[2024-06-01 03:21:57,102] [INFO] [root.spawn:38] [PID:1020] gcc -pthread -B /root/miniconda3/envs/py3.10/compiler_compat -Wno-unused-result -Wsign-compare -DNDEBUG -fwrapv -O2 -Wall -fPIC -O2 -isystem /root/miniconda3/envs/py3.10/include -fPIC -O2 -isystem /root/miniconda3/envs/py3.10/include -fPIC -c /tmp/tmpmxmi8pt_/test.c -o /tmp/tmpmxmi8pt_/test.o\n",
      "[2024-06-01 03:21:57,128] [INFO] [root.spawn:38] [PID:1020] gcc -pthread -B /root/miniconda3/envs/py3.10/compiler_compat /tmp/tmpmxmi8pt_/test.o -laio -o /tmp/tmpmxmi8pt_/a.out\n",
      "\u001b[93m [WARNING] \u001b[0m Please specify the CUTLASS repo directory as environment variable $CUTLASS_PATH\n",
      "\u001b[93m [WARNING] \u001b[0m sparse_attn requires a torch version >= 1.5 and < 2.0 but detected 2.1\n",
      "\u001b[93m [WARNING] \u001b[0m using untested triton version (2.1.0), only 1.0.0 is known to be compatible\n",
      "                                 dP            dP   dP \n",
      "                                 88            88   88 \n",
      "      .d8888b. dP.  .dP .d8888b. 88 .d8888b. d8888P 88 \n",
      "      88'  `88  `8bd8'  88'  `88 88 88'  `88   88   88 \n",
      "      88.  .88  .d88b.  88.  .88 88 88.  .88   88   88 \n",
      "      `88888P8 dP'  `dP `88888P' dP `88888P'   dP   dP \n",
      "                                                       \n",
      "                                                       \n",
      "\n",
      "****************************************\n",
      "**** Axolotl Dependency Versions *****\n",
      "  accelerate: 0.30.1         \n",
      "        peft: 0.11.1         \n",
      "transformers: 4.41.1         \n",
      "         trl: 0.8.6          \n",
      "       torch: 2.1.2+cu118    \n",
      "bitsandbytes: 0.43.1         \n",
      "****************************************\n",
      "/root/miniconda3/envs/py3.10/lib/python3.10/site-packages/huggingface_hub/file_download.py:1132: FutureWarning: `resume_download` is deprecated and will be removed in version 1.0.0. Downloads always resume when possible. If you want to force a new download, use `force_download=True`.\n",
      "  warnings.warn(\n",
      "[2024-06-01 03:21:59,192] [INFO] [axolotl.normalize_config:182] [PID:1020] [RANK:0] GPU memory usage baseline: 0.000GB (+0.467GB misc)\u001b[39m\n",
      "[2024-06-01 03:22:01,722] [DEBUG] [axolotl.load_tokenizer:280] [PID:1020] [RANK:0] EOS: 69033 / </s>\u001b[39m\n",
      "[2024-06-01 03:22:01,723] [DEBUG] [axolotl.load_tokenizer:281] [PID:1020] [RANK:0] BOS: 1 / <s>\u001b[39m\n",
      "[2024-06-01 03:22:01,723] [DEBUG] [axolotl.load_tokenizer:282] [PID:1020] [RANK:0] PAD: 92298 / <fim_pad>\u001b[39m\n",
      "[2024-06-01 03:22:01,723] [DEBUG] [axolotl.load_tokenizer:283] [PID:1020] [RANK:0] UNK: 0 / <unk>\u001b[39m\n",
      "[2024-06-01 03:22:01,723] [INFO] [axolotl.load_tokenizer:294] [PID:1020] [RANK:0] No Chat template selected. Consider adding a chat template for easier inference.\u001b[39m\n",
      "[2024-06-01 03:22:01,723] [INFO] [axolotl.load_tokenized_prepared_datasets:183] [PID:1020] [RANK:0] Unable to find prepared dataset in last_run_prepared/26d9a15e77efc1aa96977ca0958caf0b\u001b[39m\n",
      "[2024-06-01 03:22:01,723] [INFO] [axolotl.load_tokenized_prepared_datasets:184] [PID:1020] [RANK:0] Loading raw datasets...\u001b[39m\n",
      "[2024-06-01 03:22:03,530] [INFO] [axolotl.load_tokenized_prepared_datasets:414] [PID:1020] [RANK:0] merging datasets\u001b[39m\n",
      "[2024-06-01 03:22:03,544] [DEBUG] [axolotl.process_datasets_for_packing:188] [PID:1020] [RANK:0] min_input_len: 712\u001b[39m\n",
      "[2024-06-01 03:22:03,544] [DEBUG] [axolotl.process_datasets_for_packing:190] [PID:1020] [RANK:0] max_input_len: 1042\u001b[39m\n",
      "Dropping Long Sequences (num_proc=64): 100%|█| 235/235 [00:00<00:00, 458.59 exam\n",
      "[2024-06-01 03:22:05,376] [INFO] [axolotl.load_tokenized_prepared_datasets:427] [PID:1020] [RANK:0] Saving merged prepared dataset to disk... last_run_prepared/26d9a15e77efc1aa96977ca0958caf0b\u001b[39m\n",
      "Saving the dataset (1/1 shards): 100%|█| 110/110 [00:00<00:00, 4746.88 examples/\n",
      "[2024-06-01 03:22:05,423] [DEBUG] [axolotl.calculate_total_num_steps:299] [PID:1020] [RANK:0] total_num_tokens: 204_530\u001b[39m\n",
      "[2024-06-01 03:22:05,427] [DEBUG] [axolotl.calculate_total_num_steps:312] [PID:1020] [RANK:0] `total_supervised_tokens: 9_910`\u001b[39m\n",
      "[2024-06-01 03:22:05,427] [DEBUG] [axolotl.calculate_total_num_steps:390] [PID:1020] [RANK:0] total_num_steps: 75\u001b[39m\n",
      "[2024-06-01 03:22:05,428] [INFO] [axolotl.scripts.load_datasets:408] [PID:1020] [RANK:0] check_dataset_labels...\u001b[39m\n",
      "[2024-06-01 03:22:05,447] [INFO] [axolotl.check_example_labels:45] [PID:1020] [RANK:0] \u001b[31mYou\u001b[0m\u001b[97m(-100, 4260)\u001b[0m \u001b[31m are\u001b[0m\u001b[97m(-100, 1789)\u001b[0m \u001b[31m an\u001b[0m\u001b[97m(-100, 1748)\u001b[0m \u001b[31m assistant\u001b[0m\u001b[97m(-100, 13710)\u001b[0m \u001b[31m that\u001b[0m\u001b[97m(-100, 1726)\u001b[0m \u001b[31m takes\u001b[0m\u001b[97m(-100, 4594)\u001b[0m \u001b[31m a\u001b[0m\u001b[97m(-100, 1643)\u001b[0m \u001b[31m natural\u001b[0m\u001b[97m(-100, 4633)\u001b[0m \u001b[31m language\u001b[0m\u001b[97m(-100, 5114)\u001b[0m \u001b[31m query\u001b[0m\u001b[97m(-100, 9217)\u001b[0m \u001b[31m (\u001b[0m\u001b[97m(-100, 1737)\u001b[0m \u001b[31mNL\u001b[0m\u001b[97m(-100, 26741)\u001b[0m \u001b[31mQ\u001b[0m\u001b[97m(-100, 35414)\u001b[0m \u001b[31m)\u001b[0m\u001b[97m(-100, 35353)\u001b[0m \u001b[31m and\u001b[0m\u001b[97m(-100, 1679)\u001b[0m \u001b[31m a\u001b[0m\u001b[97m(-100, 1643)\u001b[0m \u001b[31m graph\u001b[0m\u001b[97m(-100, 5060)\u001b[0m \u001b[31m database\u001b[0m\u001b[97m(-100, 8135)\u001b[0m \u001b[31m schema\u001b[0m\u001b[97m(-100, 21663)\u001b[0m \u001b[31m to\u001b[0m\u001b[97m(-100, 1676)\u001b[0m \u001b[31m produce\u001b[0m\u001b[97m(-100, 6496)\u001b[0m \u001b[31m a\u001b[0m\u001b[97m(-100, 1643)\u001b[0m \u001b[31m Ne\u001b[0m\u001b[97m(-100, 4290)\u001b[0m \u001b[31mo\u001b[0m\u001b[97m(-100, 35326)\u001b[0m \u001b[31m4\u001b[0m\u001b[97m(-100, 35404)\u001b[0m \u001b[31mJ\u001b[0m\u001b[97m(-100, 35390)\u001b[0m \u001b[31m C\u001b[0m\u001b[97m(-100, 1718)\u001b[0m \u001b[31myp\u001b[0m\u001b[97m(-100, 2846)\u001b[0m \u001b[31mher\u001b[0m\u001b[97m(-100, 1778)\u001b[0m \u001b[31m query\u001b[0m\u001b[97m(-100, 9217)\u001b[0m \u001b[31m.\u001b[0m\u001b[97m(-100, 35342)\u001b[0m \u001b[31m\n",
      "\n",
      "\u001b[0m\u001b[97m(-100, 30)\u001b[0m \u001b[31m##\u001b[0m\u001b[97m(-100, 2696)\u001b[0m \u001b[31m#\u001b[0m\u001b[97m(-100, 35406)\u001b[0m \u001b[31m Inst\u001b[0m\u001b[97m(-100, 8823)\u001b[0m \u001b[31mruction\u001b[0m\u001b[97m(-100, 4087)\u001b[0m \u001b[31m:\u001b[0m\u001b[97m(-100, 35371)\u001b[0m \u001b[31m \u001b[0m\u001b[97m(-100, 35321)\u001b[0m \u001b[31m\n",
      "\n",
      "\u001b[0m\u001b[97m(-100, 30)\u001b[0m \u001b[31mNL\u001b[0m\u001b[97m(-100, 26741)\u001b[0m \u001b[31mQ\u001b[0m\u001b[97m(-100, 35414)\u001b[0m \u001b[31m:\u001b[0m\u001b[97m(-100, 35371)\u001b[0m \u001b[31m Find\u001b[0m\u001b[97m(-100, 10484)\u001b[0m \u001b[31m objects\u001b[0m\u001b[97m(-100, 7061)\u001b[0m \u001b[31m of\u001b[0m\u001b[97m(-100, 1677)\u001b[0m \u001b[31m type\u001b[0m\u001b[97m(-100, 3094)\u001b[0m \u001b[31m '\u001b[0m\u001b[97m(-100, 1999)\u001b[0m \u001b[31mEv\u001b[0m\u001b[97m(-100, 15246)\u001b[0m \u001b[31midence\u001b[0m\u001b[97m(-100, 3664)\u001b[0m \u001b[31m'\u001b[0m\u001b[97m(-100, 35361)\u001b[0m \u001b[31m \u001b[0m\u001b[97m(-100, 35321)\u001b[0m \u001b[31m\n",
      "\n",
      "\u001b[0m\u001b[97m(-100, 30)\u001b[0m \u001b[31mSchema\u001b[0m\u001b[97m(-100, 18485)\u001b[0m \u001b[31m:\u001b[0m\u001b[97m(-100, 35371)\u001b[0m \u001b[31m Node\u001b[0m\u001b[97m(-100, 17198)\u001b[0m \u001b[31m properties\u001b[0m\u001b[97m(-100, 5428)\u001b[0m \u001b[31m are\u001b[0m\u001b[97m(-100, 1789)\u001b[0m \u001b[31m the\u001b[0m\u001b[97m(-100, 1651)\u001b[0m \u001b[31m following\u001b[0m\u001b[97m(-100, 3024)\u001b[0m \u001b[31m:\u001b[0m\u001b[97m(-100, 35371)\u001b[0m \u001b[31m \"\u001b[0m\u001b[97m(-100, 1784)\u001b[0m \u001b[31m:\u001b[0m\u001b[97m(-100, 35371)\u001b[0m \u001b[31mPerson\u001b[0m\u001b[97m(-100, 24777)\u001b[0m \u001b[31m {\u001b[0m\u001b[97m(-100, 1922)\u001b[0m \u001b[31ms\u001b[0m\u001b[97m(-100, 35329)\u001b[0m \u001b[31murn\u001b[0m\u001b[97m(-100, 2001)\u001b[0m \u001b[31mame\u001b[0m\u001b[97m(-100, 1873)\u001b[0m \u001b[31m:\u001b[0m\u001b[97m(-100, 35371)\u001b[0m \u001b[31m STR\u001b[0m\u001b[97m(-100, 29499)\u001b[0m \u001b[31mING\u001b[0m\u001b[97m(-100, 4586)\u001b[0m \u001b[31m,\u001b[0m\u001b[97m(-100, 35343)\u001b[0m \u001b[31m n\u001b[0m\u001b[97m(-100, 1681)\u001b[0m \u001b[31mhs\u001b[0m\u001b[97m(-100, 10170)\u001b[0m \u001b[31m_\u001b[0m\u001b[97m(-100, 35356)\u001b[0m \u001b[31mno\u001b[0m\u001b[97m(-100, 2819)\u001b[0m \u001b[31m:\u001b[0m\u001b[97m(-100, 35371)\u001b[0m \u001b[31m STR\u001b[0m\u001b[97m(-100, 29499)\u001b[0m \u001b[31mING\u001b[0m\u001b[97m(-100, 4586)\u001b[0m \u001b[31m,\u001b[0m\u001b[97m(-100, 35343)\u001b[0m \u001b[31m name\u001b[0m\u001b[97m(-100, 2824)\u001b[0m \u001b[31m:\u001b[0m\u001b[97m(-100, 35371)\u001b[0m \u001b[31m STR\u001b[0m\u001b[97m(-100, 29499)\u001b[0m \u001b[31mING\u001b[0m\u001b[97m(-100, 4586)\u001b[0m \u001b[31m,\u001b[0m\u001b[97m(-100, 35343)\u001b[0m \u001b[31m age\u001b[0m\u001b[97m(-100, 4147)\u001b[0m \u001b[31m:\u001b[0m\u001b[97m(-100, 35371)\u001b[0m \u001b[31m STR\u001b[0m\u001b[97m(-100, 29499)\u001b[0m \u001b[31mING\u001b[0m\u001b[97m(-100, 4586)\u001b[0m \u001b[31m},\u001b[0m\u001b[97m(-100, 2270)\u001b[0m \u001b[31m:\u001b[0m\u001b[97m(-100, 35371)\u001b[0m \u001b[31mLocation\u001b[0m\u001b[97m(-100, 13610)\u001b[0m \u001b[31m {\u001b[0m\u001b[97m(-100, 1922)\u001b[0m \u001b[31mlat\u001b[0m\u001b[97m(-100, 14151)\u001b[0m \u001b[31mitude\u001b[0m\u001b[97m(-100, 5023)\u001b[0m \u001b[31m:\u001b[0m\u001b[97m(-100, 35371)\u001b[0m \u001b[31m F\u001b[0m\u001b[97m(-100, 1788)\u001b[0m \u001b[31mLO\u001b[0m\u001b[97m(-100, 5588)\u001b[0m \u001b[31mAT\u001b[0m\u001b[97m(-100, 2815)\u001b[0m \u001b[31m,\u001b[0m\u001b[97m(-100, 35343)\u001b[0m \u001b[31m post\u001b[0m\u001b[97m(-100, 2734)\u001b[0m \u001b[31mcode\u001b[0m\u001b[97m(-100, 4215)\u001b[0m \u001b[31m:\u001b[0m\u001b[97m(-100, 35371)\u001b[0m \u001b[31m STR\u001b[0m\u001b[97m(-100, 29499)\u001b[0m \u001b[31mING\u001b[0m\u001b[97m(-100, 4586)\u001b[0m \u001b[31m,\u001b[0m\u001b[97m(-100, 35343)\u001b[0m \u001b[31m long\u001b[0m\u001b[97m(-100, 2439)\u001b[0m \u001b[31mitude\u001b[0m\u001b[97m(-100, 5023)\u001b[0m \u001b[31m:\u001b[0m\u001b[97m(-100, 35371)\u001b[0m \u001b[31m F\u001b[0m\u001b[97m(-100, 1788)\u001b[0m \u001b[31mLO\u001b[0m\u001b[97m(-100, 5588)\u001b[0m \u001b[31mAT\u001b[0m\u001b[97m(-100, 2815)\u001b[0m \u001b[31m,\u001b[0m\u001b[97m(-100, 35343)\u001b[0m \u001b[31m address\u001b[0m\u001b[97m(-100, 4573)\u001b[0m \u001b[31m:\u001b[0m\u001b[97m(-100, 35371)\u001b[0m \u001b[31m STR\u001b[0m\u001b[97m(-100, 29499)\u001b[0m \u001b[31mING\u001b[0m\u001b[97m(-100, 4586)\u001b[0m \u001b[31m},\u001b[0m\u001b[97m(-100, 2270)\u001b[0m \u001b[31m:\u001b[0m\u001b[97m(-100, 35371)\u001b[0m \u001b[31mPhone\u001b[0m\u001b[97m(-100, 18430)\u001b[0m \u001b[31m {\u001b[0m\u001b[97m(-100, 1922)\u001b[0m \u001b[31mphone\u001b[0m\u001b[97m(-100, 7969)\u001b[0m \u001b[31mNo\u001b[0m\u001b[97m(-100, 4784)\u001b[0m \u001b[31m:\u001b[0m\u001b[97m(-100, 35371)\u001b[0m \u001b[31m STR\u001b[0m\u001b[97m(-100, 29499)\u001b[0m \u001b[31mING\u001b[0m\u001b[97m(-100, 4586)\u001b[0m \u001b[31m},\u001b[0m\u001b[97m(-100, 2270)\u001b[0m \u001b[31m:\u001b[0m\u001b[97m(-100, 35371)\u001b[0m \u001b[31mEmail\u001b[0m\u001b[97m(-100, 22411)\u001b[0m \u001b[31m {\u001b[0m\u001b[97m(-100, 1922)\u001b[0m \u001b[31memail\u001b[0m\u001b[97m(-100, 12752)\u001b[0m \u001b[31m_\u001b[0m\u001b[97m(-100, 35356)\u001b[0m \u001b[31maddress\u001b[0m\u001b[97m(-100, 15417)\u001b[0m \u001b[31m:\u001b[0m\u001b[97m(-100, 35371)\u001b[0m \u001b[31m STR\u001b[0m\u001b[97m(-100, 29499)\u001b[0m \u001b[31mING\u001b[0m\u001b[97m(-100, 4586)\u001b[0m \u001b[31m},\u001b[0m\u001b[97m(-100, 2270)\u001b[0m \u001b[31m:\u001b[0m\u001b[97m(-100, 35371)\u001b[0m \u001b[31mOff\u001b[0m\u001b[97m(-100, 10926)\u001b[0m \u001b[31micer\u001b[0m\u001b[97m(-100, 11596)\u001b[0m \u001b[31m {\u001b[0m\u001b[97m(-100, 1922)\u001b[0m \u001b[31mbad\u001b[0m\u001b[97m(-100, 16523)\u001b[0m \u001b[31mge\u001b[0m\u001b[97m(-100, 1838)\u001b[0m \u001b[31m_\u001b[0m\u001b[97m(-100, 35356)\u001b[0m \u001b[31mno\u001b[0m\u001b[97m(-100, 2819)\u001b[0m \u001b[31m:\u001b[0m\u001b[97m(-100, 35371)\u001b[0m \u001b[31m STR\u001b[0m\u001b[97m(-100, 29499)\u001b[0m \u001b[31mING\u001b[0m\u001b[97m(-100, 4586)\u001b[0m \u001b[31m,\u001b[0m\u001b[97m(-100, 35343)\u001b[0m \u001b[31m rank\u001b[0m\u001b[97m(-100, 6331)\u001b[0m \u001b[31m:\u001b[0m\u001b[97m(-100, 35371)\u001b[0m \u001b[31m STR\u001b[0m\u001b[97m(-100, 29499)\u001b[0m \u001b[31mING\u001b[0m\u001b[97m(-100, 4586)\u001b[0m \u001b[31m,\u001b[0m\u001b[97m(-100, 35343)\u001b[0m \u001b[31m name\u001b[0m\u001b[97m(-100, 2824)\u001b[0m \u001b[31m:\u001b[0m\u001b[97m(-100, 35371)\u001b[0m \u001b[31m STR\u001b[0m\u001b[97m(-100, 29499)\u001b[0m \u001b[31mING\u001b[0m\u001b[97m(-100, 4586)\u001b[0m \u001b[31m,\u001b[0m\u001b[97m(-100, 35343)\u001b[0m \u001b[31m s\u001b[0m\u001b[97m(-100, 1649)\u001b[0m \u001b[31murn\u001b[0m\u001b[97m(-100, 2001)\u001b[0m \u001b[31mame\u001b[0m\u001b[97m(-100, 1873)\u001b[0m \u001b[31m:\u001b[0m\u001b[97m(-100, 35371)\u001b[0m \u001b[31m STR\u001b[0m\u001b[97m(-100, 29499)\u001b[0m \u001b[31mING\u001b[0m\u001b[97m(-100, 4586)\u001b[0m \u001b[31m},\u001b[0m\u001b[97m(-100, 2270)\u001b[0m \u001b[31m:\u001b[0m\u001b[97m(-100, 35371)\u001b[0m \u001b[31mPost\u001b[0m\u001b[97m(-100, 13163)\u001b[0m \u001b[31mCode\u001b[0m\u001b[97m(-100, 7523)\u001b[0m \u001b[31m {\u001b[0m\u001b[97m(-100, 1922)\u001b[0m \u001b[31mcode\u001b[0m\u001b[97m(-100, 4215)\u001b[0m \u001b[31m:\u001b[0m\u001b[97m(-100, 35371)\u001b[0m \u001b[31m STR\u001b[0m\u001b[97m(-100, 29499)\u001b[0m \u001b[31mING\u001b[0m\u001b[97m(-100, 4586)\u001b[0m \u001b[31m},\u001b[0m\u001b[97m(-100, 2270)\u001b[0m \u001b[31m:\u001b[0m\u001b[97m(-100, 35371)\u001b[0m \u001b[31mArea\u001b[0m\u001b[97m(-100, 23951)\u001b[0m \u001b[31m {\u001b[0m\u001b[97m(-100, 1922)\u001b[0m \u001b[31marea\u001b[0m\u001b[97m(-100, 14043)\u001b[0m \u001b[31mCode\u001b[0m\u001b[97m(-100, 7523)\u001b[0m \u001b[31m:\u001b[0m\u001b[97m(-100, 35371)\u001b[0m \u001b[31m STR\u001b[0m\u001b[97m(-100, 29499)\u001b[0m \u001b[31mING\u001b[0m\u001b[97m(-100, 4586)\u001b[0m \u001b[31m},\u001b[0m\u001b[97m(-100, 2270)\u001b[0m \u001b[31m:\u001b[0m\u001b[97m(-100, 35371)\u001b[0m \u001b[31mPhone\u001b[0m\u001b[97m(-100, 18430)\u001b[0m \u001b[31mCall\u001b[0m\u001b[97m(-100, 8715)\u001b[0m \u001b[31m {\u001b[0m\u001b[97m(-100, 1922)\u001b[0m \u001b[31mcall\u001b[0m\u001b[97m(-100, 6266)\u001b[0m \u001b[31m_\u001b[0m\u001b[97m(-100, 35356)\u001b[0m \u001b[31mduration\u001b[0m\u001b[97m(-100, 31905)\u001b[0m \u001b[31m:\u001b[0m\u001b[97m(-100, 35371)\u001b[0m \u001b[31m STR\u001b[0m\u001b[97m(-100, 29499)\u001b[0m \u001b[31mING\u001b[0m\u001b[97m(-100, 4586)\u001b[0m \u001b[31m,\u001b[0m\u001b[97m(-100, 35343)\u001b[0m \u001b[31m call\u001b[0m\u001b[97m(-100, 2450)\u001b[0m \u001b[31m_\u001b[0m\u001b[97m(-100, 35356)\u001b[0m \u001b[31mtime\u001b[0m\u001b[97m(-100, 3522)\u001b[0m \u001b[31m:\u001b[0m\u001b[97m(-100, 35371)\u001b[0m \u001b[31m STR\u001b[0m\u001b[97m(-100, 29499)\u001b[0m \u001b[31mING\u001b[0m\u001b[97m(-100, 4586)\u001b[0m \u001b[31m,\u001b[0m\u001b[97m(-100, 35343)\u001b[0m \u001b[31m call\u001b[0m\u001b[97m(-100, 2450)\u001b[0m \u001b[31m_\u001b[0m\u001b[97m(-100, 35356)\u001b[0m \u001b[31mdate\u001b[0m\u001b[97m(-100, 3798)\u001b[0m \u001b[31m:\u001b[0m\u001b[97m(-100, 35371)\u001b[0m \u001b[31m STR\u001b[0m\u001b[97m(-100, 29499)\u001b[0m \u001b[31mING\u001b[0m\u001b[97m(-100, 4586)\u001b[0m \u001b[31m,\u001b[0m\u001b[97m(-100, 35343)\u001b[0m \u001b[31m call\u001b[0m\u001b[97m(-100, 2450)\u001b[0m \u001b[31m_\u001b[0m\u001b[97m(-100, 35356)\u001b[0m \u001b[31mtype\u001b[0m\u001b[97m(-100, 3536)\u001b[0m \u001b[31m:\u001b[0m\u001b[97m(-100, 35371)\u001b[0m \u001b[31m STR\u001b[0m\u001b[97m(-100, 29499)\u001b[0m \u001b[31mING\u001b[0m\u001b[97m(-100, 4586)\u001b[0m \u001b[31m},\u001b[0m\u001b[97m(-100, 2270)\u001b[0m \u001b[31m:\u001b[0m\u001b[97m(-100, 35371)\u001b[0m \u001b[31mCr\u001b[0m\u001b[97m(-100, 23519)\u001b[0m \u001b[31mime\u001b[0m\u001b[97m(-100, 1917)\u001b[0m \u001b[31m {\u001b[0m\u001b[97m(-100, 1922)\u001b[0m \u001b[31mdate\u001b[0m\u001b[97m(-100, 3798)\u001b[0m \u001b[31m:\u001b[0m\u001b[97m(-100, 35371)\u001b[0m \u001b[31m STR\u001b[0m\u001b[97m(-100, 29499)\u001b[0m \u001b[31mING\u001b[0m\u001b[97m(-100, 4586)\u001b[0m \u001b[31m,\u001b[0m\u001b[97m(-100, 35343)\u001b[0m \u001b[31m id\u001b[0m\u001b[97m(-100, 4146)\u001b[0m \u001b[31m:\u001b[0m\u001b[97m(-100, 35371)\u001b[0m \u001b[31m STR\u001b[0m\u001b[97m(-100, 29499)\u001b[0m \u001b[31mING\u001b[0m\u001b[97m(-100, 4586)\u001b[0m \u001b[31m,\u001b[0m\u001b[97m(-100, 35343)\u001b[0m \u001b[31m type\u001b[0m\u001b[97m(-100, 3094)\u001b[0m \u001b[31m:\u001b[0m\u001b[97m(-100, 35371)\u001b[0m \u001b[31m STR\u001b[0m\u001b[97m(-100, 29499)\u001b[0m \u001b[31mING\u001b[0m\u001b[97m(-100, 4586)\u001b[0m \u001b[31m,\u001b[0m\u001b[97m(-100, 35343)\u001b[0m \u001b[31m last\u001b[0m\u001b[97m(-100, 2571)\u001b[0m \u001b[31m_\u001b[0m\u001b[97m(-100, 35356)\u001b[0m \u001b[31mout\u001b[0m\u001b[97m(-100, 1866)\u001b[0m \u001b[31mcome\u001b[0m\u001b[97m(-100, 4566)\u001b[0m \u001b[31m:\u001b[0m\u001b[97m(-100, 35371)\u001b[0m \u001b[31m STR\u001b[0m\u001b[97m(-100, 29499)\u001b[0m \u001b[31mING\u001b[0m\u001b[97m(-100, 4586)\u001b[0m \u001b[31m,\u001b[0m\u001b[97m(-100, 35343)\u001b[0m \u001b[31m note\u001b[0m\u001b[97m(-100, 4776)\u001b[0m \u001b[31m:\u001b[0m\u001b[97m(-100, 35371)\u001b[0m \u001b[31m STR\u001b[0m\u001b[97m(-100, 29499)\u001b[0m \u001b[31mING\u001b[0m\u001b[97m(-100, 4586)\u001b[0m \u001b[31m,\u001b[0m\u001b[97m(-100, 35343)\u001b[0m \u001b[31m charge\u001b[0m\u001b[97m(-100, 5847)\u001b[0m \u001b[31m:\u001b[0m\u001b[97m(-100, 35371)\u001b[0m \u001b[31m STR\u001b[0m\u001b[97m(-100, 29499)\u001b[0m \u001b[31mING\u001b[0m\u001b[97m(-100, 4586)\u001b[0m \u001b[31m},\u001b[0m\u001b[97m(-100, 2270)\u001b[0m \u001b[31m:\u001b[0m\u001b[97m(-100, 35371)\u001b[0m \u001b[31mObject\u001b[0m\u001b[97m(-100, 5169)\u001b[0m \u001b[31m {\u001b[0m\u001b[97m(-100, 1922)\u001b[0m \u001b[31mdescription\u001b[0m\u001b[97m(-100, 11269)\u001b[0m \u001b[31m:\u001b[0m\u001b[97m(-100, 35371)\u001b[0m \u001b[31m STR\u001b[0m\u001b[97m(-100, 29499)\u001b[0m \u001b[31mING\u001b[0m\u001b[97m(-100, 4586)\u001b[0m \u001b[31m,\u001b[0m\u001b[97m(-100, 35343)\u001b[0m \u001b[31m id\u001b[0m\u001b[97m(-100, 4146)\u001b[0m \u001b[31m:\u001b[0m\u001b[97m(-100, 35371)\u001b[0m \u001b[31m STR\u001b[0m\u001b[97m(-100, 29499)\u001b[0m \u001b[31mING\u001b[0m\u001b[97m(-100, 4586)\u001b[0m \u001b[31m,\u001b[0m\u001b[97m(-100, 35343)\u001b[0m \u001b[31m type\u001b[0m\u001b[97m(-100, 3094)\u001b[0m \u001b[31m:\u001b[0m\u001b[97m(-100, 35371)\u001b[0m \u001b[31m STR\u001b[0m\u001b[97m(-100, 29499)\u001b[0m \u001b[31mING\u001b[0m\u001b[97m(-100, 4586)\u001b[0m \u001b[31m},\u001b[0m\u001b[97m(-100, 2270)\u001b[0m \u001b[31m:\u001b[0m\u001b[97m(-100, 35371)\u001b[0m \u001b[31mV\u001b[0m\u001b[97m(-100, 35389)\u001b[0m \u001b[31meh\u001b[0m\u001b[97m(-100, 13821)\u001b[0m \u001b[31micle\u001b[0m\u001b[97m(-100, 3501)\u001b[0m \u001b[31m {\u001b[0m\u001b[97m(-100, 1922)\u001b[0m \u001b[31mmodel\u001b[0m\u001b[97m(-100, 7130)\u001b[0m \u001b[31m:\u001b[0m\u001b[97m(-100, 35371)\u001b[0m \u001b[31m STR\u001b[0m\u001b[97m(-100, 29499)\u001b[0m \u001b[31mING\u001b[0m\u001b[97m(-100, 4586)\u001b[0m \u001b[31m,\u001b[0m\u001b[97m(-100, 35343)\u001b[0m \u001b[31m reg\u001b[0m\u001b[97m(-100, 2214)\u001b[0m \u001b[31m:\u001b[0m\u001b[97m(-100, 35371)\u001b[0m \u001b[31m STR\u001b[0m\u001b[97m(-100, 29499)\u001b[0m \u001b[31mING\u001b[0m\u001b[97m(-100, 4586)\u001b[0m \u001b[31m,\u001b[0m\u001b[97m(-100, 35343)\u001b[0m \u001b[31m make\u001b[0m\u001b[97m(-100, 2295)\u001b[0m \u001b[31m:\u001b[0m\u001b[97m(-100, 35371)\u001b[0m \u001b[31m STR\u001b[0m\u001b[97m(-100, 29499)\u001b[0m \u001b[31mING\u001b[0m\u001b[97m(-100, 4586)\u001b[0m \u001b[31m,\u001b[0m\u001b[97m(-100, 35343)\u001b[0m \u001b[31m year\u001b[0m\u001b[97m(-100, 2077)\u001b[0m \u001b[31m:\u001b[0m\u001b[97m(-100, 35371)\u001b[0m \u001b[31m STR\u001b[0m\u001b[97m(-100, 29499)\u001b[0m \u001b[31mING\u001b[0m\u001b[97m(-100, 4586)\u001b[0m \u001b[31m}\"\u001b[0m\u001b[97m(-100, 11608)\u001b[0m \u001b[31m Relations\u001b[0m\u001b[97m(-100, 17879)\u001b[0m \u001b[31mhip\u001b[0m\u001b[97m(-100, 2548)\u001b[0m \u001b[31m properties\u001b[0m\u001b[97m(-100, 5428)\u001b[0m \u001b[31m are\u001b[0m\u001b[97m(-100, 1789)\u001b[0m \u001b[31m the\u001b[0m\u001b[97m(-100, 1651)\u001b[0m \u001b[31m following\u001b[0m\u001b[97m(-100, 3024)\u001b[0m \u001b[31m:\u001b[0m\u001b[97m(-100, 35371)\u001b[0m \u001b[31m \"\u001b[0m\u001b[97m(-100, 1784)\u001b[0m \u001b[31m:\u001b[0m\u001b[97m(-100, 35371)\u001b[0m \u001b[31mCUR\u001b[0m\u001b[97m(-100, 29845)\u001b[0m \u001b[31mRENT\u001b[0m\u001b[97m(-100, 34919)\u001b[0m \u001b[31m_\u001b[0m\u001b[97m(-100, 35356)\u001b[0m \u001b[31mADD\u001b[0m\u001b[97m(-100, 22055)\u001b[0m \u001b[31mRESS\u001b[0m\u001b[97m(-100, 30391)\u001b[0m \u001b[31m {},\u001b[0m\u001b[97m(-100, 29873)\u001b[0m \u001b[31m:\u001b[0m\u001b[97m(-100, 35371)\u001b[0m \u001b[31mH\u001b[0m\u001b[97m(-100, 35375)\u001b[0m \u001b[31mAS\u001b[0m\u001b[97m(-100, 3389)\u001b[0m \u001b[31m_\u001b[0m\u001b[97m(-100, 35356)\u001b[0m \u001b[31mPH\u001b[0m\u001b[97m(-100, 14150)\u001b[0m \u001b[31mONE\u001b[0m\u001b[97m(-100, 14706)\u001b[0m \u001b[31m {},\u001b[0m\u001b[97m(-100, 29873)\u001b[0m \u001b[31m:\u001b[0m\u001b[97m(-100, 35371)\u001b[0m \u001b[31mH\u001b[0m\u001b[97m(-100, 35375)\u001b[0m \u001b[31mAS\u001b[0m\u001b[97m(-100, 3389)\u001b[0m \u001b[31m_\u001b[0m\u001b[97m(-100, 35356)\u001b[0m \u001b[31mE\u001b[0m\u001b[97m(-100, 35369)\u001b[0m \u001b[31mMAIL\u001b[0m\u001b[97m(-100, 31552)\u001b[0m \u001b[31m {},\u001b[0m\u001b[97m(-100, 29873)\u001b[0m \u001b[31m:\u001b[0m\u001b[97m(-100, 35371)\u001b[0m \u001b[31mH\u001b[0m\u001b[97m(-100, 35375)\u001b[0m \u001b[31mAS\u001b[0m\u001b[97m(-100, 3389)\u001b[0m \u001b[31m_\u001b[0m\u001b[97m(-100, 35356)\u001b[0m \u001b[31mPOST\u001b[0m\u001b[97m(-100, 17276)\u001b[0m \u001b[31mCODE\u001b[0m\u001b[97m(-100, 20558)\u001b[0m \u001b[31m {},\u001b[0m\u001b[97m(-100, 29873)\u001b[0m \u001b[31m:\u001b[0m\u001b[97m(-100, 35371)\u001b[0m \u001b[31mPOST\u001b[0m\u001b[97m(-100, 17276)\u001b[0m \u001b[31mCODE\u001b[0m\u001b[97m(-100, 20558)\u001b[0m \u001b[31m_\u001b[0m\u001b[97m(-100, 35356)\u001b[0m \u001b[31mIN\u001b[0m\u001b[97m(-100, 2653)\u001b[0m \u001b[31m_\u001b[0m\u001b[97m(-100, 35356)\u001b[0m \u001b[31mARE\u001b[0m\u001b[97m(-100, 14512)\u001b[0m \u001b[31mA\u001b[0m\u001b[97m(-100, 35355)\u001b[0m \u001b[31m {},\u001b[0m\u001b[97m(-100, 29873)\u001b[0m \u001b[31m:\u001b[0m\u001b[97m(-100, 35371)\u001b[0m \u001b[31mLO\u001b[0m\u001b[97m(-100, 5588)\u001b[0m \u001b[31mC\u001b[0m\u001b[97m(-100, 35358)\u001b[0m \u001b[31mATION\u001b[0m\u001b[97m(-100, 8743)\u001b[0m \u001b[31m_\u001b[0m\u001b[97m(-100, 35356)\u001b[0m \u001b[31mIN\u001b[0m\u001b[97m(-100, 2653)\u001b[0m \u001b[31m_\u001b[0m\u001b[97m(-100, 35356)\u001b[0m \u001b[31mARE\u001b[0m\u001b[97m(-100, 14512)\u001b[0m \u001b[31mA\u001b[0m\u001b[97m(-100, 35355)\u001b[0m \u001b[31m {},\u001b[0m\u001b[97m(-100, 29873)\u001b[0m \u001b[31m:\u001b[0m\u001b[97m(-100, 35371)\u001b[0m \u001b[31mKN\u001b[0m\u001b[97m(-100, 29836)\u001b[0m \u001b[31mOW\u001b[0m\u001b[97m(-100, 7159)\u001b[0m \u001b[31mS\u001b[0m\u001b[97m(-100, 35352)\u001b[0m \u001b[31m_\u001b[0m\u001b[97m(-100, 35356)\u001b[0m \u001b[31mSN\u001b[0m\u001b[97m(-100, 18918)\u001b[0m \u001b[31m {},\u001b[0m\u001b[97m(-100, 29873)\u001b[0m \u001b[31m:\u001b[0m\u001b[97m(-100, 35371)\u001b[0m \u001b[31mKN\u001b[0m\u001b[97m(-100, 29836)\u001b[0m \u001b[31mOW\u001b[0m\u001b[97m(-100, 7159)\u001b[0m \u001b[31mS\u001b[0m\u001b[97m(-100, 35352)\u001b[0m \u001b[31m {},\u001b[0m\u001b[97m(-100, 29873)\u001b[0m \u001b[31m:\u001b[0m\u001b[97m(-100, 35371)\u001b[0m \u001b[31mCA\u001b[0m\u001b[97m(-100, 6057)\u001b[0m \u001b[31mLL\u001b[0m\u001b[97m(-100, 3089)\u001b[0m \u001b[31mER\u001b[0m\u001b[97m(-100, 2524)\u001b[0m \u001b[31m {},\u001b[0m\u001b[97m(-100, 29873)\u001b[0m \u001b[31m:\u001b[0m\u001b[97m(-100, 35371)\u001b[0m \u001b[31mCA\u001b[0m\u001b[97m(-100, 6057)\u001b[0m \u001b[31mLL\u001b[0m\u001b[97m(-100, 3089)\u001b[0m \u001b[31mED\u001b[0m\u001b[97m(-100, 3714)\u001b[0m \u001b[31m {},\u001b[0m\u001b[97m(-100, 29873)\u001b[0m \u001b[31m:\u001b[0m\u001b[97m(-100, 35371)\u001b[0m \u001b[31mKN\u001b[0m\u001b[97m(-100, 29836)\u001b[0m \u001b[31mOW\u001b[0m\u001b[97m(-100, 7159)\u001b[0m \u001b[31mS\u001b[0m\u001b[97m(-100, 35352)\u001b[0m \u001b[31m_\u001b[0m\u001b[97m(-100, 35356)\u001b[0m \u001b[31mPH\u001b[0m\u001b[97m(-100, 14150)\u001b[0m \u001b[31mONE\u001b[0m\u001b[97m(-100, 14706)\u001b[0m \u001b[31m {},\u001b[0m\u001b[97m(-100, 29873)\u001b[0m \u001b[31m:\u001b[0m\u001b[97m(-100, 35371)\u001b[0m \u001b[31mO\u001b[0m\u001b[97m(-100, 35377)\u001b[0m \u001b[31mCC\u001b[0m\u001b[97m(-100, 5445)\u001b[0m \u001b[31mUR\u001b[0m\u001b[97m(-100, 5174)\u001b[0m \u001b[31mRED\u001b[0m\u001b[97m(-100, 31538)\u001b[0m \u001b[31m_\u001b[0m\u001b[97m(-100, 35356)\u001b[0m \u001b[31mAT\u001b[0m\u001b[97m(-100, 2815)\u001b[0m \u001b[31m {},\u001b[0m\u001b[97m(-100, 29873)\u001b[0m \u001b[31m:\u001b[0m\u001b[97m(-100, 35371)\u001b[0m \u001b[31mIN\u001b[0m\u001b[97m(-100, 2653)\u001b[0m \u001b[31mVE\u001b[0m\u001b[97m(-100, 8554)\u001b[0m \u001b[31mST\u001b[0m\u001b[97m(-100, 2967)\u001b[0m \u001b[31mIG\u001b[0m\u001b[97m(-100, 4869)\u001b[0m \u001b[31mATED\u001b[0m\u001b[97m(-100, 20179)\u001b[0m \u001b[31m_\u001b[0m\u001b[97m(-100, 35356)\u001b[0m \u001b[31mBY\u001b[0m\u001b[97m(-100, 23724)\u001b[0m \u001b[31m {},\u001b[0m\u001b[97m(-100, 29873)\u001b[0m \u001b[31m:\u001b[0m\u001b[97m(-100, 35371)\u001b[0m \u001b[31mIN\u001b[0m\u001b[97m(-100, 2653)\u001b[0m \u001b[31mV\u001b[0m\u001b[97m(-100, 35389)\u001b[0m \u001b[31mOL\u001b[0m\u001b[97m(-100, 6193)\u001b[0m \u001b[31mV\u001b[0m\u001b[97m(-100, 35389)\u001b[0m \u001b[31mED\u001b[0m\u001b[97m(-100, 3714)\u001b[0m \u001b[31m_\u001b[0m\u001b[97m(-100, 35356)\u001b[0m \u001b[31mIN\u001b[0m\u001b[97m(-100, 2653)\u001b[0m \u001b[31m {},\u001b[0m\u001b[97m(-100, 29873)\u001b[0m \u001b[31m:\u001b[0m\u001b[97m(-100, 35371)\u001b[0m \u001b[31mPAR\u001b[0m\u001b[97m(-100, 16184)\u001b[0m \u001b[31mTY\u001b[0m\u001b[97m(-100, 8148)\u001b[0m \u001b[31m_\u001b[0m\u001b[97m(-100, 35356)\u001b[0m \u001b[31mTO\u001b[0m\u001b[97m(-100, 7512)\u001b[0m \u001b[31m {},\u001b[0m\u001b[97m(-100, 29873)\u001b[0m \u001b[31m:\u001b[0m\u001b[97m(-100, 35371)\u001b[0m \u001b[31mF\u001b[0m\u001b[97m(-100, 35379)\u001b[0m \u001b[31mAM\u001b[0m\u001b[97m(-100, 3783)\u001b[0m \u001b[31mIL\u001b[0m\u001b[97m(-100, 5492)\u001b[0m \u001b[31mY\u001b[0m\u001b[97m(-100, 35398)\u001b[0m \u001b[31m_\u001b[0m\u001b[97m(-100, 35356)\u001b[0m \u001b[31mRE\u001b[0m\u001b[97m(-100, 2985)\u001b[0m \u001b[31mL\u001b[0m\u001b[97m(-100, 35370)\u001b[0m \u001b[31m {\u001b[0m\u001b[97m(-100, 1922)\u001b[0m \u001b[31mrel\u001b[0m\u001b[97m(-100, 3564)\u001b[0m \u001b[31m_\u001b[0m\u001b[97m(-100, 35356)\u001b[0m \u001b[31mtype\u001b[0m\u001b[97m(-100, 3536)\u001b[0m \u001b[31m:\u001b[0m\u001b[97m(-100, 35371)\u001b[0m \u001b[31m STR\u001b[0m\u001b[97m(-100, 29499)\u001b[0m \u001b[31mING\u001b[0m\u001b[97m(-100, 4586)\u001b[0m \u001b[31m},\u001b[0m\u001b[97m(-100, 2270)\u001b[0m \u001b[31m:\u001b[0m\u001b[97m(-100, 35371)\u001b[0m \u001b[31mKN\u001b[0m\u001b[97m(-100, 29836)\u001b[0m \u001b[31mOW\u001b[0m\u001b[97m(-100, 7159)\u001b[0m \u001b[31mS\u001b[0m\u001b[97m(-100, 35352)\u001b[0m \u001b[31m_\u001b[0m\u001b[97m(-100, 35356)\u001b[0m \u001b[31mL\u001b[0m\u001b[97m(-100, 35370)\u001b[0m \u001b[31mW\u001b[0m\u001b[97m(-100, 35378)\u001b[0m \u001b[31m {}\u001b[0m\u001b[97m(-100, 10856)\u001b[0m \u001b[31m\"\u001b[0m\u001b[97m(-100, 35360)\u001b[0m \u001b[31m Relations\u001b[0m\u001b[97m(-100, 17879)\u001b[0m \u001b[31mhip\u001b[0m\u001b[97m(-100, 2548)\u001b[0m \u001b[31m point\u001b[0m\u001b[97m(-100, 2518)\u001b[0m \u001b[31m from\u001b[0m\u001b[97m(-100, 1829)\u001b[0m \u001b[31m source\u001b[0m\u001b[97m(-100, 4347)\u001b[0m \u001b[31m to\u001b[0m\u001b[97m(-100, 1676)\u001b[0m \u001b[31m target\u001b[0m\u001b[97m(-100, 4056)\u001b[0m \u001b[31m nodes\u001b[0m\u001b[97m(-100, 9660)\u001b[0m \u001b[31m \"\u001b[0m\u001b[97m(-100, 1784)\u001b[0m \u001b[31m(:\u001b[0m\u001b[97m(-100, 13160)\u001b[0m \u001b[31mPerson\u001b[0m\u001b[97m(-100, 24777)\u001b[0m \u001b[31m)-\u001b[0m\u001b[97m(-100, 7129)\u001b[0m \u001b[31m[:\u001b[0m\u001b[97m(-100, 13839)\u001b[0m \u001b[31mF\u001b[0m\u001b[97m(-100, 35379)\u001b[0m \u001b[31mAM\u001b[0m\u001b[97m(-100, 3783)\u001b[0m \u001b[31mIL\u001b[0m\u001b[97m(-100, 5492)\u001b[0m \u001b[31mY\u001b[0m\u001b[97m(-100, 35398)\u001b[0m \u001b[31m_\u001b[0m\u001b[97m(-100, 35356)\u001b[0m \u001b[31mRE\u001b[0m\u001b[97m(-100, 2985)\u001b[0m \u001b[31mL\u001b[0m\u001b[97m(-100, 35370)\u001b[0m \u001b[31m]->\u001b[0m\u001b[97m(-100, 30924)\u001b[0m \u001b[31m(:\u001b[0m\u001b[97m(-100, 13160)\u001b[0m \u001b[31mPerson\u001b[0m\u001b[97m(-100, 24777)\u001b[0m \u001b[31m),\u001b[0m\u001b[97m(-100, 2027)\u001b[0m \u001b[31m(:\u001b[0m\u001b[97m(-100, 13160)\u001b[0m \u001b[31mPerson\u001b[0m\u001b[97m(-100, 24777)\u001b[0m \u001b[31m)-\u001b[0m\u001b[97m(-100, 7129)\u001b[0m \u001b[31m[:\u001b[0m\u001b[97m(-100, 13839)\u001b[0m \u001b[31mCUR\u001b[0m\u001b[97m(-100, 29845)\u001b[0m \u001b[31mRENT\u001b[0m\u001b[97m(-100, 34919)\u001b[0m \u001b[31m_\u001b[0m\u001b[97m(-100, 35356)\u001b[0m \u001b[31mADD\u001b[0m\u001b[97m(-100, 22055)\u001b[0m \u001b[31mRESS\u001b[0m\u001b[97m(-100, 30391)\u001b[0m \u001b[31m]->\u001b[0m\u001b[97m(-100, 30924)\u001b[0m \u001b[31m(:\u001b[0m\u001b[97m(-100, 13160)\u001b[0m \u001b[31mLocation\u001b[0m\u001b[97m(-100, 13610)\u001b[0m \u001b[31m),\u001b[0m\u001b[97m(-100, 2027)\u001b[0m \u001b[31m(:\u001b[0m\u001b[97m(-100, 13160)\u001b[0m \u001b[31mPerson\u001b[0m\u001b[97m(-100, 24777)\u001b[0m \u001b[31m)-\u001b[0m\u001b[97m(-100, 7129)\u001b[0m \u001b[31m[:\u001b[0m\u001b[97m(-100, 13839)\u001b[0m \u001b[31mKN\u001b[0m\u001b[97m(-100, 29836)\u001b[0m \u001b[31mOW\u001b[0m\u001b[97m(-100, 7159)\u001b[0m \u001b[31mS\u001b[0m\u001b[97m(-100, 35352)\u001b[0m \u001b[31m]->\u001b[0m\u001b[97m(-100, 30924)\u001b[0m \u001b[31m(:\u001b[0m\u001b[97m(-100, 13160)\u001b[0m \u001b[31mPerson\u001b[0m\u001b[97m(-100, 24777)\u001b[0m \u001b[31m),\u001b[0m\u001b[97m(-100, 2027)\u001b[0m \u001b[31m(:\u001b[0m\u001b[97m(-100, 13160)\u001b[0m \u001b[31mPerson\u001b[0m\u001b[97m(-100, 24777)\u001b[0m \u001b[31m)-\u001b[0m\u001b[97m(-100, 7129)\u001b[0m \u001b[31m[:\u001b[0m\u001b[97m(-100, 13839)\u001b[0m \u001b[31mH\u001b[0m\u001b[97m(-100, 35375)\u001b[0m \u001b[31mAS\u001b[0m\u001b[97m(-100, 3389)\u001b[0m \u001b[31m_\u001b[0m\u001b[97m(-100, 35356)\u001b[0m \u001b[31mPH\u001b[0m\u001b[97m(-100, 14150)\u001b[0m \u001b[31mONE\u001b[0m\u001b[97m(-100, 14706)\u001b[0m \u001b[31m]->\u001b[0m\u001b[97m(-100, 30924)\u001b[0m \u001b[31m(:\u001b[0m\u001b[97m(-100, 13160)\u001b[0m \u001b[31mPhone\u001b[0m\u001b[97m(-100, 18430)\u001b[0m \u001b[31m),\u001b[0m\u001b[97m(-100, 2027)\u001b[0m \u001b[31m(:\u001b[0m\u001b[97m(-100, 13160)\u001b[0m \u001b[31mPerson\u001b[0m\u001b[97m(-100, 24777)\u001b[0m \u001b[31m)-\u001b[0m\u001b[97m(-100, 7129)\u001b[0m \u001b[31m[:\u001b[0m\u001b[97m(-100, 13839)\u001b[0m \u001b[31mKN\u001b[0m\u001b[97m(-100, 29836)\u001b[0m \u001b[31mOW\u001b[0m\u001b[97m(-100, 7159)\u001b[0m \u001b[31mS\u001b[0m\u001b[97m(-100, 35352)\u001b[0m \u001b[31m_\u001b[0m\u001b[97m(-100, 35356)\u001b[0m \u001b[31mPH\u001b[0m\u001b[97m(-100, 14150)\u001b[0m \u001b[31mONE\u001b[0m\u001b[97m(-100, 14706)\u001b[0m \u001b[31m]->\u001b[0m\u001b[97m(-100, 30924)\u001b[0m \u001b[31m(:\u001b[0m\u001b[97m(-100, 13160)\u001b[0m \u001b[31mPerson\u001b[0m\u001b[97m(-100, 24777)\u001b[0m \u001b[31m),\u001b[0m\u001b[97m(-100, 2027)\u001b[0m \u001b[31m(:\u001b[0m\u001b[97m(-100, 13160)\u001b[0m \u001b[31mPerson\u001b[0m\u001b[97m(-100, 24777)\u001b[0m \u001b[31m)-\u001b[0m\u001b[97m(-100, 7129)\u001b[0m \u001b[31m[:\u001b[0m\u001b[97m(-100, 13839)\u001b[0m \u001b[31mH\u001b[0m\u001b[97m(-100, 35375)\u001b[0m \u001b[31mAS\u001b[0m\u001b[97m(-100, 3389)\u001b[0m \u001b[31m_\u001b[0m\u001b[97m(-100, 35356)\u001b[0m \u001b[31mE\u001b[0m\u001b[97m(-100, 35369)\u001b[0m \u001b[31mMAIL\u001b[0m\u001b[97m(-100, 31552)\u001b[0m \u001b[31m]->\u001b[0m\u001b[97m(-100, 30924)\u001b[0m \u001b[31m(:\u001b[0m\u001b[97m(-100, 13160)\u001b[0m \u001b[31mEmail\u001b[0m\u001b[97m(-100, 22411)\u001b[0m \u001b[31m),\u001b[0m\u001b[97m(-100, 2027)\u001b[0m \u001b[31m(:\u001b[0m\u001b[97m(-100, 13160)\u001b[0m \u001b[31mPerson\u001b[0m\u001b[97m(-100, 24777)\u001b[0m \u001b[31m)-\u001b[0m\u001b[97m(-100, 7129)\u001b[0m \u001b[31m[:\u001b[0m\u001b[97m(-100, 13839)\u001b[0m \u001b[31mKN\u001b[0m\u001b[97m(-100, 29836)\u001b[0m \u001b[31mOW\u001b[0m\u001b[97m(-100, 7159)\u001b[0m \u001b[31mS\u001b[0m\u001b[97m(-100, 35352)\u001b[0m \u001b[31m_\u001b[0m\u001b[97m(-100, 35356)\u001b[0m \u001b[31mSN\u001b[0m\u001b[97m(-100, 18918)\u001b[0m \u001b[31m]->\u001b[0m\u001b[97m(-100, 30924)\u001b[0m \u001b[31m(:\u001b[0m\u001b[97m(-100, 13160)\u001b[0m \u001b[31mPerson\u001b[0m\u001b[97m(-100, 24777)\u001b[0m \u001b[31m),\u001b[0m\u001b[97m(-100, 2027)\u001b[0m \u001b[31m(:\u001b[0m\u001b[97m(-100, 13160)\u001b[0m \u001b[31mPerson\u001b[0m\u001b[97m(-100, 24777)\u001b[0m \u001b[31m)-\u001b[0m\u001b[97m(-100, 7129)\u001b[0m \u001b[31m[:\u001b[0m\u001b[97m(-100, 13839)\u001b[0m \u001b[31mKN\u001b[0m\u001b[97m(-100, 29836)\u001b[0m \u001b[31mOW\u001b[0m\u001b[97m(-100, 7159)\u001b[0m \u001b[31mS\u001b[0m\u001b[97m(-100, 35352)\u001b[0m \u001b[31m_\u001b[0m\u001b[97m(-100, 35356)\u001b[0m \u001b[31mL\u001b[0m\u001b[97m(-100, 35370)\u001b[0m \u001b[31mW\u001b[0m\u001b[97m(-100, 35378)\u001b[0m \u001b[31m]->\u001b[0m\u001b[97m(-100, 30924)\u001b[0m \u001b[31m(:\u001b[0m\u001b[97m(-100, 13160)\u001b[0m \u001b[31mPerson\u001b[0m\u001b[97m(-100, 24777)\u001b[0m \u001b[31m),\u001b[0m\u001b[97m(-100, 2027)\u001b[0m \u001b[31m(:\u001b[0m\u001b[97m(-100, 13160)\u001b[0m \u001b[31mPerson\u001b[0m\u001b[97m(-100, 24777)\u001b[0m \u001b[31m)-\u001b[0m\u001b[97m(-100, 7129)\u001b[0m \u001b[31m[:\u001b[0m\u001b[97m(-100, 13839)\u001b[0m \u001b[31mPAR\u001b[0m\u001b[97m(-100, 16184)\u001b[0m \u001b[31mTY\u001b[0m\u001b[97m(-100, 8148)\u001b[0m \u001b[31m_\u001b[0m\u001b[97m(-100, 35356)\u001b[0m \u001b[31mTO\u001b[0m\u001b[97m(-100, 7512)\u001b[0m \u001b[31m]->\u001b[0m\u001b[97m(-100, 30924)\u001b[0m \u001b[31m(:\u001b[0m\u001b[97m(-100, 13160)\u001b[0m \u001b[31mCr\u001b[0m\u001b[97m(-100, 23519)\u001b[0m \u001b[31mime\u001b[0m\u001b[97m(-100, 1917)\u001b[0m \u001b[31m),\u001b[0m\u001b[97m(-100, 2027)\u001b[0m \u001b[31m(:\u001b[0m\u001b[97m(-100, 13160)\u001b[0m \u001b[31mLocation\u001b[0m\u001b[97m(-100, 13610)\u001b[0m \u001b[31m)-\u001b[0m\u001b[97m(-100, 7129)\u001b[0m \u001b[31m[:\u001b[0m\u001b[97m(-100, 13839)\u001b[0m \u001b[31mLO\u001b[0m\u001b[97m(-100, 5588)\u001b[0m \u001b[31mC\u001b[0m\u001b[97m(-100, 35358)\u001b[0m \u001b[31mATION\u001b[0m\u001b[97m(-100, 8743)\u001b[0m \u001b[31m_\u001b[0m\u001b[97m(-100, 35356)\u001b[0m \u001b[31mIN\u001b[0m\u001b[97m(-100, 2653)\u001b[0m \u001b[31m_\u001b[0m\u001b[97m(-100, 35356)\u001b[0m \u001b[31mARE\u001b[0m\u001b[97m(-100, 14512)\u001b[0m \u001b[31mA\u001b[0m\u001b[97m(-100, 35355)\u001b[0m \u001b[31m]->\u001b[0m\u001b[97m(-100, 30924)\u001b[0m \u001b[31m(:\u001b[0m\u001b[97m(-100, 13160)\u001b[0m \u001b[31mArea\u001b[0m\u001b[97m(-100, 23951)\u001b[0m \u001b[31m),\u001b[0m\u001b[97m(-100, 2027)\u001b[0m \u001b[31m(:\u001b[0m\u001b[97m(-100, 13160)\u001b[0m \u001b[31mLocation\u001b[0m\u001b[97m(-100, 13610)\u001b[0m \u001b[31m)-\u001b[0m\u001b[97m(-100, 7129)\u001b[0m \u001b[31m[:\u001b[0m\u001b[97m(-100, 13839)\u001b[0m \u001b[31mH\u001b[0m\u001b[97m(-100, 35375)\u001b[0m \u001b[31mAS\u001b[0m\u001b[97m(-100, 3389)\u001b[0m \u001b[31m_\u001b[0m\u001b[97m(-100, 35356)\u001b[0m \u001b[31mPOST\u001b[0m\u001b[97m(-100, 17276)\u001b[0m \u001b[31mCODE\u001b[0m\u001b[97m(-100, 20558)\u001b[0m \u001b[31m]->\u001b[0m\u001b[97m(-100, 30924)\u001b[0m \u001b[31m(:\u001b[0m\u001b[97m(-100, 13160)\u001b[0m \u001b[31mPost\u001b[0m\u001b[97m(-100, 13163)\u001b[0m \u001b[31mCode\u001b[0m\u001b[97m(-100, 7523)\u001b[0m \u001b[31m),\u001b[0m\u001b[97m(-100, 2027)\u001b[0m \u001b[31m(:\u001b[0m\u001b[97m(-100, 13160)\u001b[0m \u001b[31mPost\u001b[0m\u001b[97m(-100, 13163)\u001b[0m \u001b[31mCode\u001b[0m\u001b[97m(-100, 7523)\u001b[0m \u001b[31m)-\u001b[0m\u001b[97m(-100, 7129)\u001b[0m \u001b[31m[:\u001b[0m\u001b[97m(-100, 13839)\u001b[0m \u001b[31mPOST\u001b[0m\u001b[97m(-100, 17276)\u001b[0m \u001b[31mCODE\u001b[0m\u001b[97m(-100, 20558)\u001b[0m \u001b[31m_\u001b[0m\u001b[97m(-100, 35356)\u001b[0m \u001b[31mIN\u001b[0m\u001b[97m(-100, 2653)\u001b[0m \u001b[31m_\u001b[0m\u001b[97m(-100, 35356)\u001b[0m \u001b[31mARE\u001b[0m\u001b[97m(-100, 14512)\u001b[0m \u001b[31mA\u001b[0m\u001b[97m(-100, 35355)\u001b[0m \u001b[31m]->\u001b[0m\u001b[97m(-100, 30924)\u001b[0m \u001b[31m(:\u001b[0m\u001b[97m(-100, 13160)\u001b[0m \u001b[31mArea\u001b[0m\u001b[97m(-100, 23951)\u001b[0m \u001b[31m),\u001b[0m\u001b[97m(-100, 2027)\u001b[0m \u001b[31m(:\u001b[0m\u001b[97m(-100, 13160)\u001b[0m \u001b[31mPhone\u001b[0m\u001b[97m(-100, 18430)\u001b[0m \u001b[31mCall\u001b[0m\u001b[97m(-100, 8715)\u001b[0m \u001b[31m)-\u001b[0m\u001b[97m(-100, 7129)\u001b[0m \u001b[31m[:\u001b[0m\u001b[97m(-100, 13839)\u001b[0m \u001b[31mCA\u001b[0m\u001b[97m(-100, 6057)\u001b[0m \u001b[31mLL\u001b[0m\u001b[97m(-100, 3089)\u001b[0m \u001b[31mED\u001b[0m\u001b[97m(-100, 3714)\u001b[0m \u001b[31m]->\u001b[0m\u001b[97m(-100, 30924)\u001b[0m \u001b[31m(:\u001b[0m\u001b[97m(-100, 13160)\u001b[0m \u001b[31mPhone\u001b[0m\u001b[97m(-100, 18430)\u001b[0m \u001b[31m),\u001b[0m\u001b[97m(-100, 2027)\u001b[0m \u001b[31m(:\u001b[0m\u001b[97m(-100, 13160)\u001b[0m \u001b[31mPhone\u001b[0m\u001b[97m(-100, 18430)\u001b[0m \u001b[31mCall\u001b[0m\u001b[97m(-100, 8715)\u001b[0m \u001b[31m)-\u001b[0m\u001b[97m(-100, 7129)\u001b[0m \u001b[31m[:\u001b[0m\u001b[97m(-100, 13839)\u001b[0m \u001b[31mCA\u001b[0m\u001b[97m(-100, 6057)\u001b[0m \u001b[31mLL\u001b[0m\u001b[97m(-100, 3089)\u001b[0m \u001b[31mER\u001b[0m\u001b[97m(-100, 2524)\u001b[0m \u001b[31m]->\u001b[0m\u001b[97m(-100, 30924)\u001b[0m \u001b[31m(:\u001b[0m\u001b[97m(-100, 13160)\u001b[0m \u001b[31mPhone\u001b[0m\u001b[97m(-100, 18430)\u001b[0m \u001b[31m),\u001b[0m\u001b[97m(-100, 2027)\u001b[0m \u001b[31m(:\u001b[0m\u001b[97m(-100, 13160)\u001b[0m \u001b[31mCr\u001b[0m\u001b[97m(-100, 23519)\u001b[0m \u001b[31mime\u001b[0m\u001b[97m(-100, 1917)\u001b[0m \u001b[31m)-\u001b[0m\u001b[97m(-100, 7129)\u001b[0m \u001b[31m[:\u001b[0m\u001b[97m(-100, 13839)\u001b[0m \u001b[31mIN\u001b[0m\u001b[97m(-100, 2653)\u001b[0m \u001b[31mVE\u001b[0m\u001b[97m(-100, 8554)\u001b[0m \u001b[31mST\u001b[0m\u001b[97m(-100, 2967)\u001b[0m \u001b[31mIG\u001b[0m\u001b[97m(-100, 4869)\u001b[0m \u001b[31mATED\u001b[0m\u001b[97m(-100, 20179)\u001b[0m \u001b[31m_\u001b[0m\u001b[97m(-100, 35356)\u001b[0m \u001b[31mBY\u001b[0m\u001b[97m(-100, 23724)\u001b[0m \u001b[31m]->\u001b[0m\u001b[97m(-100, 30924)\u001b[0m \u001b[31m(:\u001b[0m\u001b[97m(-100, 13160)\u001b[0m \u001b[31mOff\u001b[0m\u001b[97m(-100, 10926)\u001b[0m \u001b[31micer\u001b[0m\u001b[97m(-100, 11596)\u001b[0m \u001b[31m),\u001b[0m\u001b[97m(-100, 2027)\u001b[0m \u001b[31m(:\u001b[0m\u001b[97m(-100, 13160)\u001b[0m \u001b[31mCr\u001b[0m\u001b[97m(-100, 23519)\u001b[0m \u001b[31mime\u001b[0m\u001b[97m(-100, 1917)\u001b[0m \u001b[31m)-\u001b[0m\u001b[97m(-100, 7129)\u001b[0m \u001b[31m[:\u001b[0m\u001b[97m(-100, 13839)\u001b[0m \u001b[31mO\u001b[0m\u001b[97m(-100, 35377)\u001b[0m \u001b[31mCC\u001b[0m\u001b[97m(-100, 5445)\u001b[0m \u001b[31mUR\u001b[0m\u001b[97m(-100, 5174)\u001b[0m \u001b[31mRED\u001b[0m\u001b[97m(-100, 31538)\u001b[0m \u001b[31m_\u001b[0m\u001b[97m(-100, 35356)\u001b[0m \u001b[31mAT\u001b[0m\u001b[97m(-100, 2815)\u001b[0m \u001b[31m]->\u001b[0m\u001b[97m(-100, 30924)\u001b[0m \u001b[31m(:\u001b[0m\u001b[97m(-100, 13160)\u001b[0m \u001b[31mLocation\u001b[0m\u001b[97m(-100, 13610)\u001b[0m \u001b[31m),\u001b[0m\u001b[97m(-100, 2027)\u001b[0m \u001b[31m(:\u001b[0m\u001b[97m(-100, 13160)\u001b[0m \u001b[31mObject\u001b[0m\u001b[97m(-100, 5169)\u001b[0m \u001b[31m)-\u001b[0m\u001b[97m(-100, 7129)\u001b[0m \u001b[31m[:\u001b[0m\u001b[97m(-100, 13839)\u001b[0m \u001b[31mIN\u001b[0m\u001b[97m(-100, 2653)\u001b[0m \u001b[31mV\u001b[0m\u001b[97m(-100, 35389)\u001b[0m \u001b[31mOL\u001b[0m\u001b[97m(-100, 6193)\u001b[0m \u001b[31mV\u001b[0m\u001b[97m(-100, 35389)\u001b[0m \u001b[31mED\u001b[0m\u001b[97m(-100, 3714)\u001b[0m \u001b[31m_\u001b[0m\u001b[97m(-100, 35356)\u001b[0m \u001b[31mIN\u001b[0m\u001b[97m(-100, 2653)\u001b[0m \u001b[31m]->\u001b[0m\u001b[97m(-100, 30924)\u001b[0m \u001b[31m(:\u001b[0m\u001b[97m(-100, 13160)\u001b[0m \u001b[31mCr\u001b[0m\u001b[97m(-100, 23519)\u001b[0m \u001b[31mime\u001b[0m\u001b[97m(-100, 1917)\u001b[0m \u001b[31m),\u001b[0m\u001b[97m(-100, 2027)\u001b[0m \u001b[31m(:\u001b[0m\u001b[97m(-100, 13160)\u001b[0m \u001b[31mV\u001b[0m\u001b[97m(-100, 35389)\u001b[0m \u001b[31meh\u001b[0m\u001b[97m(-100, 13821)\u001b[0m \u001b[31micle\u001b[0m\u001b[97m(-100, 3501)\u001b[0m \u001b[31m)-\u001b[0m\u001b[97m(-100, 7129)\u001b[0m \u001b[31m[:\u001b[0m\u001b[97m(-100, 13839)\u001b[0m \u001b[31mIN\u001b[0m\u001b[97m(-100, 2653)\u001b[0m \u001b[31mV\u001b[0m\u001b[97m(-100, 35389)\u001b[0m \u001b[31mOL\u001b[0m\u001b[97m(-100, 6193)\u001b[0m \u001b[31mV\u001b[0m\u001b[97m(-100, 35389)\u001b[0m \u001b[31mED\u001b[0m\u001b[97m(-100, 3714)\u001b[0m \u001b[31m_\u001b[0m\u001b[97m(-100, 35356)\u001b[0m \u001b[31mIN\u001b[0m\u001b[97m(-100, 2653)\u001b[0m \u001b[31m]->\u001b[0m\u001b[97m(-100, 30924)\u001b[0m \u001b[31m(:\u001b[0m\u001b[97m(-100, 13160)\u001b[0m \u001b[31mCr\u001b[0m\u001b[97m(-100, 23519)\u001b[0m \u001b[31mime\u001b[0m\u001b[97m(-100, 1917)\u001b[0m \u001b[31m)\"\u001b[0m\u001b[97m(-100, 16352)\u001b[0m \u001b[31m\n",
      "\n",
      "\u001b[0m\u001b[97m(-100, 30)\u001b[0m \u001b[31m##\u001b[0m\u001b[97m(-100, 2696)\u001b[0m \u001b[31m#\u001b[0m\u001b[97m(-100, 35406)\u001b[0m \u001b[31m Response\u001b[0m\u001b[97m(-100, 21022)\u001b[0m \u001b[31m:\u001b[0m\u001b[97m(-100, 35371)\u001b[0m \u001b[32m M\u001b[0m\u001b[97m(1729, 1729)\u001b[0m \u001b[32mATCH\u001b[0m\u001b[97m(23269, 23269)\u001b[0m \u001b[32m (\u001b[0m\u001b[97m(1737, 1737)\u001b[0m \u001b[32mn\u001b[0m\u001b[97m(35327, 35327)\u001b[0m \u001b[32m:\u001b[0m\u001b[97m(35371, 35371)\u001b[0m \u001b[32mObject\u001b[0m\u001b[97m(5169, 5169)\u001b[0m \u001b[32m)\u001b[0m\u001b[97m(35353, 35353)\u001b[0m \u001b[32m WHERE\u001b[0m\u001b[97m(17511, 17511)\u001b[0m \u001b[32m to\u001b[0m\u001b[97m(1676, 1676)\u001b[0m \u001b[32mLower\u001b[0m\u001b[97m(24755, 24755)\u001b[0m \u001b[32m(\u001b[0m\u001b[97m(35354, 35354)\u001b[0m \u001b[32mn\u001b[0m\u001b[97m(35327, 35327)\u001b[0m \u001b[32m.\u001b[0m\u001b[97m(35342, 35342)\u001b[0m \u001b[32mtype\u001b[0m\u001b[97m(3536, 3536)\u001b[0m \u001b[32m)\u001b[0m\u001b[97m(35353, 35353)\u001b[0m \u001b[32m =\u001b[0m\u001b[97m(1813, 1813)\u001b[0m \u001b[32m to\u001b[0m\u001b[97m(1676, 1676)\u001b[0m \u001b[32mLower\u001b[0m\u001b[97m(24755, 24755)\u001b[0m \u001b[32m('\u001b[0m\u001b[97m(2919, 2919)\u001b[0m \u001b[32mEv\u001b[0m\u001b[97m(15246, 15246)\u001b[0m \u001b[32midence\u001b[0m\u001b[97m(3664, 3664)\u001b[0m \u001b[32m')\u001b[0m\u001b[97m(3973, 3973)\u001b[0m \u001b[32m R\u001b[0m\u001b[97m(1786, 1786)\u001b[0m \u001b[32mET\u001b[0m\u001b[97m(3860, 3860)\u001b[0m \u001b[32mURN\u001b[0m\u001b[97m(25482, 25482)\u001b[0m \u001b[32m n\u001b[0m\u001b[97m(1681, 1681)\u001b[0m \u001b[32m</s>\u001b[0m\u001b[97m(69033, 69033)\u001b[0m\u001b[39m\n",
      "[2024-06-01 03:22:05,451] [INFO] [axolotl.check_example_labels:46] [PID:1020] [RANK:0] \n",
      "\n",
      "\n",
      "\u001b[39m\n",
      "[2024-06-01 03:22:05,451] [INFO] [axolotl.scripts.load_datasets:421] [PID:1020] [RANK:0] printing prompters...\u001b[39m\n",
      "[2024-06-01 03:22:05,451] [INFO] [axolotl.scripts.load_datasets:423] [PID:1020] [RANK:0] Pre-tokenized or custom dataset types are unsupported for logging\u001b[39m\n",
      "[2024-06-01 03:22:05,474] [INFO] [axolotl.cli.preprocess.do_cli:74] [PID:1020] [RANK:0] \u001b[32mSuccess! Preprocessed data path: `dataset_prepared_path: last_run_prepared`\u001b[39m\u001b[39m\n",
      "\u001b[0m"
     ]
    }
   ],
   "source": [
    "! python -m axolotl.cli.preprocess cypher.yml --debug"
   ]
  },
  {
   "cell_type": "code",
   "execution_count": null,
   "id": "2fb76432-78a2-4aca-a885-34e5fd735c1f",
   "metadata": {},
   "outputs": [],
   "source": [
    "# ! python -m axolotl.cli.preprocess hc.yml"
   ]
  },
  {
   "cell_type": "markdown",
   "id": "a799030a-5b05-4559-a399-9811f7c28865",
   "metadata": {},
   "source": [
    "## Debug\n",
    "\n",
    "### See All The commands"
   ]
  },
  {
   "cell_type": "code",
   "execution_count": 3,
   "id": "a9841b32-3a27-4f60-8879-5d35acf8cab4",
   "metadata": {},
   "outputs": [
    {
     "name": "stdout",
     "output_type": "stream",
     "text": [
      "WARNING: BNB_CUDA_VERSION=118 environment variable detected; loading libbitsandbytes_cuda118.so.\n",
      "This can be used to load a bitsandbytes version that is different from the PyTorch CUDA version.\n",
      "If this was unintended set the BNB_CUDA_VERSION variable to an empty string: export BNB_CUDA_VERSION=\n",
      "If you use the manual override make sure the right libcudart.so is in your LD_LIBRARY_PATH\n",
      "For example by adding the following to your .bashrc: export LD_LIBRARY_PATH=$LD_LIBRARY_PATH:<path_to_cuda_dir/lib64\n",
      "\n",
      "[2024-05-28 00:44:26,483] [INFO] [datasets.<module>:58] [PID:207] PyTorch version 2.1.2+cu118 available.\n",
      "[2024-05-28 00:44:27,572] [INFO] [real_accelerator.py:203:get_accelerator] Setting ds_accelerator to cuda (auto detect)\n",
      "[2024-05-28 00:44:27,649] [INFO] [root.spawn:38] [PID:207] gcc -pthread -B /root/miniconda3/envs/py3.10/compiler_compat -Wno-unused-result -Wsign-compare -DNDEBUG -fwrapv -O2 -Wall -fPIC -O2 -isystem /root/miniconda3/envs/py3.10/include -fPIC -O2 -isystem /root/miniconda3/envs/py3.10/include -fPIC -c /tmp/tmpxrbwq46s/test.c -o /tmp/tmpxrbwq46s/test.o\n",
      "[2024-05-28 00:44:27,672] [INFO] [root.spawn:38] [PID:207] gcc -pthread -B /root/miniconda3/envs/py3.10/compiler_compat /tmp/tmpxrbwq46s/test.o -laio -o /tmp/tmpxrbwq46s/a.out\n",
      "\u001b[93m [WARNING] \u001b[0m Please specify the CUTLASS repo directory as environment variable $CUTLASS_PATH\n",
      "\u001b[93m [WARNING] \u001b[0m sparse_attn requires a torch version >= 1.5 and < 2.0 but detected 2.1\n",
      "\u001b[93m [WARNING] \u001b[0m using untested triton version (2.1.0), only 1.0.0 is known to be compatible\n",
      "                                 dP            dP   dP \n",
      "                                 88            88   88 \n",
      "      .d8888b. dP.  .dP .d8888b. 88 .d8888b. d8888P 88 \n",
      "      88'  `88  `8bd8'  88'  `88 88 88'  `88   88   88 \n",
      "      88.  .88  .d88b.  88.  .88 88 88.  .88   88   88 \n",
      "      `88888P8 dP'  `dP `88888P' dP `88888P'   dP   dP \n",
      "                                                       \n",
      "                                                       \n",
      "\n",
      "****************************************\n",
      "**** Axolotl Dependency Versions *****\n",
      "  accelerate: 0.30.1         \n",
      "        peft: 0.10.0         \n",
      "transformers: 4.40.2         \n",
      "         trl: 0.8.5          \n",
      "       torch: 2.1.2+cu118    \n",
      "bitsandbytes: 0.43.1         \n",
      "****************************************\n",
      "/root/miniconda3/envs/py3.10/lib/python3.10/site-packages/huggingface_hub/file_download.py:1132: FutureWarning: `resume_download` is deprecated and will be removed in version 1.0.0. Downloads always resume when possible. If you want to force a new download, use `force_download=True`.\n",
      "  warnings.warn(\n",
      "[2024-05-28 00:44:29,636] [INFO] [axolotl.normalize_config:182] [PID:207] [RANK:0] GPU memory usage baseline: 0.000GB (+0.467GB misc)\u001b[39m\n",
      "\u001b[33m[2024-05-28 00:44:29,637] [WARNING] [axolotl.scripts.check_user_token:487] [PID:207] [RANK:0] Error verifying HuggingFace token. Remember to log in using `huggingface-cli login` and get your access token from https://huggingface.co/settings/tokens if you want to use gated models or datasets.\u001b[39m\n",
      "usage: preprocess.py [-h] [--debug [DEBUG]]\n",
      "                     [--debug_text_only [DEBUG_TEXT_ONLY]]\n",
      "                     [--debug_num_examples DEBUG_NUM_EXAMPLES]\n",
      "                     [--prompter PROMPTER]\n",
      "\n",
      "options:\n",
      "  -h, --help            show this help message and exit\n",
      "  --debug [DEBUG]\n",
      "  --debug_text_only [DEBUG_TEXT_ONLY]\n",
      "  --debug_num_examples DEBUG_NUM_EXAMPLES\n",
      "  --prompter PROMPTER\n",
      "\u001b[0m"
     ]
    }
   ],
   "source": [
    "! python -m axolotl.cli.preprocess cypher.yml --help"
   ]
  },
  {
   "cell_type": "markdown",
   "id": "7f337b50-07e7-4a3e-bf76-bfb6b0fabe61",
   "metadata": {},
   "source": [
    "### Text Only\n",
    "\n",
    "I often have problems with `debug_text_only`, so I do things manually"
   ]
  },
  {
   "cell_type": "code",
   "execution_count": 7,
   "id": "2b82812f-76ce-4944-b330-de7ba383e6aa",
   "metadata": {},
   "outputs": [
    {
     "name": "stdout",
     "output_type": "stream",
     "text": [
      "total 4.0K\n",
      "drwxr-xr-x  3 root root   46 May 27 13:24 .\n",
      "drwxr-xr-x 10 root root 4.0K Jun  1 03:21 ..\n",
      "drwxr-xr-x  3 root root  108 May 28 00:41 26d9a15e77efc1aa96977ca0958caf0b\n"
     ]
    }
   ],
   "source": [
    "!ls -lah last_run_prepared/"
   ]
  },
  {
   "cell_type": "code",
   "execution_count": 8,
   "id": "9dd3a555-be44-4814-bcae-6a45b2491e56",
   "metadata": {},
   "outputs": [],
   "source": [
    "import json, yaml\n",
    "from transformers import AutoTokenizer\n",
    "from datasets import load_from_disk\n",
    "\n",
    "\n",
    "with open('cypher.yml', 'r') as f:\n",
    "    cfg = yaml.safe_load(f)\n",
    "\n",
    "model_id = cfg['base_model']\n",
    "tok = AutoTokenizer.from_pretrained(model_id)\n",
    "ds = load_from_disk('last_run_prepared/26d9a15e77efc1aa96977ca0958caf0b/')"
   ]
  },
  {
   "cell_type": "markdown",
   "id": "f2a4e4fc-ac51-413a-89b7-bdd6f8bd83d5",
   "metadata": {},
   "source": [
    "Below is the assembled text in its flattened format.  Notice the spaces that axolotl are adding. Will talk about this at the end.\n",
    "\n",
    "This makes me paranoid because of differences between how the prompt is assembled and inference.  You just have to make sure its the same at inference!  \n"
   ]
  },
  {
   "cell_type": "code",
   "execution_count": 9,
   "id": "6f729546-5625-4f65-ada9-0c35a55509c3",
   "metadata": {},
   "outputs": [
    {
     "name": "stdout",
     "output_type": "stream",
     "text": [
      "You are an assistant that takes a natural language query (NLQ) and a graph database schema to produce a Neo4J Cypher query.\n",
      "\n",
      "### Instruction: \n",
      "\n",
      "NLQ: Finds cars involved in crime with ID '%crime_id%'. \n",
      "\n",
      "Schema: Node properties are the following: \":Person {surname: STRING, nhs_no: STRING, name: STRING, age: STRING},:Location {latitude: FLOAT, postcode: STRING, longitude: FLOAT, address: STRING},:Phone {phoneNo: STRING},:Email {email_address: STRING},:Officer {badge_no: STRING, rank: STRING, name: STRING, surname: STRING},:PostCode {code: STRING},:Area {areaCode: STRING},:PhoneCall {call_duration: STRING, call_time: STRING, call_date: STRING, call_type: STRING},:Crime {date: STRING, id: STRING, type: STRING, last_outcome: STRING, note: STRING, charge: STRING},:Object {description: STRING, id: STRING, type: STRING},:Vehicle {model: STRING, reg: STRING, make: STRING, year: STRING}\" Relationship properties are the following: \":CURRENT_ADDRESS {},:HAS_PHONE {},:HAS_EMAIL {},:HAS_POSTCODE {},:POSTCODE_IN_AREA {},:LOCATION_IN_AREA {},:KNOWS_SN {},:KNOWS {},:CALLER {},:CALLED {},:KNOWS_PHONE {},:OCCURRED_AT {},:INVESTIGATED_BY {},:INVOLVED_IN {},:PARTY_TO {},:FAMILY_REL {rel_type: STRING},:KNOWS_LW {}\" Relationship point from source to target nodes \"(:Person)-[:FAMILY_REL]->(:Person),(:Person)-[:CURRENT_ADDRESS]->(:Location),(:Person)-[:KNOWS]->(:Person),(:Person)-[:HAS_PHONE]->(:Phone),(:Person)-[:KNOWS_PHONE]->(:Person),(:Person)-[:HAS_EMAIL]->(:Email),(:Person)-[:KNOWS_SN]->(:Person),(:Person)-[:KNOWS_LW]->(:Person),(:Person)-[:PARTY_TO]->(:Crime),(:Location)-[:LOCATION_IN_AREA]->(:Area),(:Location)-[:HAS_POSTCODE]->(:PostCode),(:PostCode)-[:POSTCODE_IN_AREA]->(:Area),(:PhoneCall)-[:CALLED]->(:Phone),(:PhoneCall)-[:CALLER]->(:Phone),(:Crime)-[:INVESTIGATED_BY]->(:Officer),(:Crime)-[:OCCURRED_AT]->(:Location),(:Object)-[:INVOLVED_IN]->(:Crime),(:Vehicle)-[:INVOLVED_IN]->(:Crime)\"\n",
      "\n",
      "### Response: MATCH (n:Crime)-[r:INVOLVED_IN]->(m:Vehicle) WHERE toLower(n.id) = toLower('%crime_id%') RETURN n, r, m</s>\n"
     ]
    }
   ],
   "source": [
    "print(tok.decode(ds['input_ids'][10]))"
   ]
  },
  {
   "cell_type": "markdown",
   "id": "dbfa59b1-8a95-4e65-b018-f259db75a75a",
   "metadata": {},
   "source": [
    "### Other Notes\n",
    "\n",
    "- Seeing the flattened version often helps you spot issues in your prompt.  It can be hard to notice that in jsonl format.\n",
    "- Check multiple examples!"
   ]
  },
  {
   "cell_type": "markdown",
   "id": "c9b8d205-e1b4-4d59-b24c-5fa78a473459",
   "metadata": {},
   "source": [
    "### Verbose debugging\n",
    "\n",
    "This helps you check things like: \n",
    "1. ignoring inputs (`train_on_inputs:False`) - notice the `red` color, which indicate tokens that are ignored.\n",
    "2. token ids (ex: what are those spaces right before `##`?\n",
    "3. The logs tell you what the special tokens are."
   ]
  },
  {
   "cell_type": "code",
   "execution_count": 32,
   "id": "c155f555-9660-46b2-b619-26ae226ad870",
   "metadata": {
    "collapsed": true,
    "jupyter": {
     "outputs_hidden": true
    }
   },
   "outputs": [
    {
     "name": "stdout",
     "output_type": "stream",
     "text": [
      "[2024-05-16 21:42:39,557] [INFO] [real_accelerator.py:191:get_accelerator] Setting ds_accelerator to cuda (auto detect)\n",
      "                                 dP            dP   dP \n",
      "                                 88            88   88 \n",
      "      .d8888b. dP.  .dP .d8888b. 88 .d8888b. d8888P 88 \n",
      "      88'  `88  `8bd8'  88'  `88 88 88'  `88   88   88 \n",
      "      88.  .88  .d88b.  88.  .88 88 88.  .88   88   88 \n",
      "      `88888P8 dP'  `dP `88888P' dP `88888P'   dP   dP \n",
      "                                                       \n",
      "                                                       \n",
      "\n",
      "****************************************\n",
      "**** Axolotl Dependency Versions *****\n",
      "  accelerate: 0.26.1         \n",
      "        peft: 0.9.1.dev0     \n",
      "transformers: 4.39.0.dev0    \n",
      "         trl: 0.7.9          \n",
      "       torch: 2.0.1          \n",
      "bitsandbytes: 0.41.3.post2   \n",
      "****************************************\n",
      "[2024-05-16 21:42:40,813] [INFO] [axolotl.normalize_config:182] [PID:766298] [RANK:0] GPU memory usage baseline: 0.000GB (+0.651GB misc)\u001b[39m\n",
      "[2024-05-16 21:42:41,246] [DEBUG] [axolotl.load_tokenizer:277] [PID:766298] [RANK:0] EOS: 2 / </s>\u001b[39m\n",
      "[2024-05-16 21:42:41,246] [DEBUG] [axolotl.load_tokenizer:278] [PID:766298] [RANK:0] BOS: 1 / <s>\u001b[39m\n",
      "[2024-05-16 21:42:41,246] [DEBUG] [axolotl.load_tokenizer:279] [PID:766298] [RANK:0] PAD: 2 / </s>\u001b[39m\n",
      "[2024-05-16 21:42:41,246] [DEBUG] [axolotl.load_tokenizer:280] [PID:766298] [RANK:0] UNK: 0 / <unk>\u001b[39m\n",
      "[2024-05-16 21:42:41,246] [INFO] [axolotl.load_tokenizer:291] [PID:766298] [RANK:0] No Chat template selected. Consider adding a chat template for easier inference.\u001b[39m\n",
      "[2024-05-16 21:42:41,246] [INFO] [axolotl.load_tokenized_prepared_datasets:183] [PID:766298] [RANK:0] Unable to find prepared dataset in last_run_prepared/22cf9f5f00f9d3b9504fbaf9b68a2f75\u001b[39m\n",
      "[2024-05-16 21:42:41,246] [INFO] [axolotl.load_tokenized_prepared_datasets:184] [PID:766298] [RANK:0] Loading raw datasets...\u001b[39m\n",
      "[2024-05-16 21:42:41,664] [INFO] [axolotl.load_tokenized_prepared_datasets:410] [PID:766298] [RANK:0] merging datasets\u001b[39m\n",
      "[2024-05-16 21:42:41,667] [DEBUG] [axolotl.log:61] [PID:766298] [RANK:0] min_input_len: 298\u001b[39m\n",
      "[2024-05-16 21:42:41,667] [DEBUG] [axolotl.log:61] [PID:766298] [RANK:0] max_input_len: 768\u001b[39m\n",
      "[2024-05-16 21:42:41,667] [INFO] [axolotl.log:61] [PID:766298] [RANK:0] dropping attention_mask column\u001b[39m\n",
      "Dropping Long Sequences (num_proc=72): 100%|█| 100/100 [00:00<00:00, 366.21 exam\n",
      "[2024-05-16 21:42:42,491] [INFO] [axolotl.load_tokenized_prepared_datasets:423] [PID:766298] [RANK:0] Saving merged prepared dataset to disk... last_run_prepared/22cf9f5f00f9d3b9504fbaf9b68a2f75\u001b[39m\n",
      "Saving the dataset (1/1 shards): 100%|█| 100/100 [00:00<00:00, 10591.41 examples\n",
      "[2024-05-16 21:42:42,513] [DEBUG] [axolotl.log:61] [PID:766298] [RANK:0] total_num_tokens: 49_324\u001b[39m\n",
      "[2024-05-16 21:42:42,514] [DEBUG] [axolotl.log:61] [PID:766298] [RANK:0] `total_supervised_tokens: 7_732`\u001b[39m\n",
      "[2024-05-16 21:42:42,514] [DEBUG] [axolotl.log:61] [PID:766298] [RANK:0] total_num_steps: 5\u001b[39m\n",
      "[2024-05-16 21:42:42,514] [INFO] [axolotl.scripts.load_datasets:402] [PID:766298] [RANK:0] check_dataset_labels...\u001b[39m\n",
      "[2024-05-16 21:42:42,527] [INFO] [axolotl.check_example_labels:37] [PID:766298] [RANK:0] \u001b[31m<s>\u001b[0m\u001b[97m(-100, 1)\u001b[0m \u001b[31mH\u001b[0m\u001b[97m(-100, 382)\u001b[0m \u001b[31money\u001b[0m\u001b[97m(-100, 2011)\u001b[0m \u001b[31mcomb\u001b[0m\u001b[97m(-100, 17305)\u001b[0m \u001b[31mis\u001b[0m\u001b[97m(-100, 349)\u001b[0m \u001b[31man\u001b[0m\u001b[97m(-100, 396)\u001b[0m \u001b[31mobserv\u001b[0m\u001b[97m(-100, 3977)\u001b[0m \u001b[31mability\u001b[0m\u001b[97m(-100, 2437)\u001b[0m \u001b[31mplatform\u001b[0m\u001b[97m(-100, 5181)\u001b[0m \u001b[31mthat\u001b[0m\u001b[97m(-100, 369)\u001b[0m \u001b[31mallows\u001b[0m\u001b[97m(-100, 5976)\u001b[0m \u001b[31myou\u001b[0m\u001b[97m(-100, 368)\u001b[0m \u001b[31mto\u001b[0m\u001b[97m(-100, 298)\u001b[0m \u001b[31mwrite\u001b[0m\u001b[97m(-100, 3324)\u001b[0m \u001b[31mqueries\u001b[0m\u001b[97m(-100, 23681)\u001b[0m \u001b[31mto\u001b[0m\u001b[97m(-100, 298)\u001b[0m \u001b[31minspect\u001b[0m\u001b[97m(-100, 16279)\u001b[0m \u001b[31mtrace\u001b[0m\u001b[97m(-100, 10718)\u001b[0m \u001b[31mdata\u001b[0m\u001b[97m(-100, 1178)\u001b[0m \u001b[31m.\u001b[0m\u001b[97m(-100, 28723)\u001b[0m \u001b[31mYou\u001b[0m\u001b[97m(-100, 995)\u001b[0m \u001b[31mare\u001b[0m\u001b[97m(-100, 460)\u001b[0m \u001b[31man\u001b[0m\u001b[97m(-100, 396)\u001b[0m \u001b[31massistant\u001b[0m\u001b[97m(-100, 13892)\u001b[0m \u001b[31mthat\u001b[0m\u001b[97m(-100, 369)\u001b[0m \u001b[31mtakes\u001b[0m\u001b[97m(-100, 4347)\u001b[0m \u001b[31ma\u001b[0m\u001b[97m(-100, 264)\u001b[0m \u001b[31mnatural\u001b[0m\u001b[97m(-100, 4229)\u001b[0m \u001b[31mlanguage\u001b[0m\u001b[97m(-100, 3842)\u001b[0m \u001b[31mquery\u001b[0m\u001b[97m(-100, 5709)\u001b[0m \u001b[31m(\u001b[0m\u001b[97m(-100, 325)\u001b[0m \u001b[31mNL\u001b[0m\u001b[97m(-100, 16717)\u001b[0m \u001b[31mQ\u001b[0m\u001b[97m(-100, 28824)\u001b[0m \u001b[31m)\u001b[0m\u001b[97m(-100, 28731)\u001b[0m \u001b[31mand\u001b[0m\u001b[97m(-100, 304)\u001b[0m \u001b[31ma\u001b[0m\u001b[97m(-100, 264)\u001b[0m \u001b[31mlist\u001b[0m\u001b[97m(-100, 1274)\u001b[0m \u001b[31mof\u001b[0m\u001b[97m(-100, 302)\u001b[0m \u001b[31mvalid\u001b[0m\u001b[97m(-100, 3716)\u001b[0m \u001b[31mcolumns\u001b[0m\u001b[97m(-100, 11252)\u001b[0m \u001b[31mand\u001b[0m\u001b[97m(-100, 304)\u001b[0m \u001b[31mproduce\u001b[0m\u001b[97m(-100, 7072)\u001b[0m \u001b[31ma\u001b[0m\u001b[97m(-100, 264)\u001b[0m \u001b[31mH\u001b[0m\u001b[97m(-100, 382)\u001b[0m \u001b[31money\u001b[0m\u001b[97m(-100, 2011)\u001b[0m \u001b[31mcomb\u001b[0m\u001b[97m(-100, 17305)\u001b[0m \u001b[31mquery\u001b[0m\u001b[97m(-100, 5709)\u001b[0m \u001b[31m.\u001b[0m\u001b[97m(-100, 28723)\u001b[0m \u001b[31m<0x0A>\u001b[0m\u001b[97m(-100, 13)\u001b[0m \u001b[31m<0x0A>\u001b[0m\u001b[97m(-100, 13)\u001b[0m \u001b[31m###\u001b[0m\u001b[97m(-100, 774)\u001b[0m \u001b[31mInst\u001b[0m\u001b[97m(-100, 3133)\u001b[0m \u001b[31mruction\u001b[0m\u001b[97m(-100, 3112)\u001b[0m \u001b[31m:\u001b[0m\u001b[97m(-100, 28747)\u001b[0m \u001b[31m\u001b[0m\u001b[97m(-100, 28705)\u001b[0m \u001b[31m<0x0A>\u001b[0m\u001b[97m(-100, 13)\u001b[0m \u001b[31m<0x0A>\u001b[0m\u001b[97m(-100, 13)\u001b[0m \u001b[31mNL\u001b[0m\u001b[97m(-100, 16717)\u001b[0m \u001b[31mQ\u001b[0m\u001b[97m(-100, 28824)\u001b[0m \u001b[31m:\u001b[0m\u001b[97m(-100, 28747)\u001b[0m \u001b[31m\"\u001b[0m\u001b[97m(-100, 345)\u001b[0m \u001b[31mDisplay\u001b[0m\u001b[97m(-100, 7524)\u001b[0m \u001b[31mrecent\u001b[0m\u001b[97m(-100, 5391)\u001b[0m \u001b[31mtrace\u001b[0m\u001b[97m(-100, 10718)\u001b[0m \u001b[31mevents\u001b[0m\u001b[97m(-100, 3926)\u001b[0m \u001b[31mwithin\u001b[0m\u001b[97m(-100, 2373)\u001b[0m \u001b[31mthe\u001b[0m\u001b[97m(-100, 272)\u001b[0m \u001b[31mpast\u001b[0m\u001b[97m(-100, 2609)\u001b[0m \u001b[31m\u001b[0m\u001b[97m(-100, 28705)\u001b[0m \u001b[31m5\u001b[0m\u001b[97m(-100, 28782)\u001b[0m \u001b[31mminutes\u001b[0m\u001b[97m(-100, 3486)\u001b[0m \u001b[31m\"\u001b[0m\u001b[97m(-100, 28739)\u001b[0m \u001b[31m<0x0A>\u001b[0m\u001b[97m(-100, 13)\u001b[0m \u001b[31m<0x0A>\u001b[0m\u001b[97m(-100, 13)\u001b[0m \u001b[31mColumns\u001b[0m\u001b[97m(-100, 15468)\u001b[0m \u001b[31m:\u001b[0m\u001b[97m(-100, 28747)\u001b[0m \u001b[31m['\u001b[0m\u001b[97m(-100, 5936)\u001b[0m \u001b[31mtrace\u001b[0m\u001b[97m(-100, 9213)\u001b[0m \u001b[31m.\u001b[0m\u001b[97m(-100, 28723)\u001b[0m \u001b[31mtrace\u001b[0m\u001b[97m(-100, 9213)\u001b[0m \u001b[31m_\u001b[0m\u001b[97m(-100, 28730)\u001b[0m \u001b[31mid\u001b[0m\u001b[97m(-100, 313)\u001b[0m \u001b[31m',\u001b[0m\u001b[97m(-100, 647)\u001b[0m \u001b[31m'\u001b[0m\u001b[97m(-100, 464)\u001b[0m \u001b[31mduration\u001b[0m\u001b[97m(-100, 15458)\u001b[0m \u001b[31m_\u001b[0m\u001b[97m(-100, 28730)\u001b[0m \u001b[31mms\u001b[0m\u001b[97m(-100, 1033)\u001b[0m \u001b[31m',\u001b[0m\u001b[97m(-100, 647)\u001b[0m \u001b[31m'\u001b[0m\u001b[97m(-100, 464)\u001b[0m \u001b[31mtrace\u001b[0m\u001b[97m(-100, 9213)\u001b[0m \u001b[31m.\u001b[0m\u001b[97m(-100, 28723)\u001b[0m \u001b[31mspan\u001b[0m\u001b[97m(-100, 3721)\u001b[0m \u001b[31m_\u001b[0m\u001b[97m(-100, 28730)\u001b[0m \u001b[31mid\u001b[0m\u001b[97m(-100, 313)\u001b[0m \u001b[31m',\u001b[0m\u001b[97m(-100, 647)\u001b[0m \u001b[31m'\u001b[0m\u001b[97m(-100, 464)\u001b[0m \u001b[31mtrace\u001b[0m\u001b[97m(-100, 9213)\u001b[0m \u001b[31m.\u001b[0m\u001b[97m(-100, 28723)\u001b[0m \u001b[31mparent\u001b[0m\u001b[97m(-100, 3682)\u001b[0m \u001b[31m_\u001b[0m\u001b[97m(-100, 28730)\u001b[0m \u001b[31mid\u001b[0m\u001b[97m(-100, 313)\u001b[0m \u001b[31m',\u001b[0m\u001b[97m(-100, 647)\u001b[0m \u001b[31m'\u001b[0m\u001b[97m(-100, 464)\u001b[0m \u001b[31mmessage\u001b[0m\u001b[97m(-100, 1324)\u001b[0m \u001b[31m',\u001b[0m\u001b[97m(-100, 647)\u001b[0m \u001b[31m'\u001b[0m\u001b[97m(-100, 464)\u001b[0m \u001b[31mname\u001b[0m\u001b[97m(-100, 861)\u001b[0m \u001b[31m',\u001b[0m\u001b[97m(-100, 647)\u001b[0m \u001b[31m'\u001b[0m\u001b[97m(-100, 464)\u001b[0m \u001b[31mpath\u001b[0m\u001b[97m(-100, 1740)\u001b[0m \u001b[31m',\u001b[0m\u001b[97m(-100, 647)\u001b[0m \u001b[31m'\u001b[0m\u001b[97m(-100, 464)\u001b[0m \u001b[31merror\u001b[0m\u001b[97m(-100, 1958)\u001b[0m \u001b[31m',\u001b[0m\u001b[97m(-100, 647)\u001b[0m \u001b[31m'\u001b[0m\u001b[97m(-100, 464)\u001b[0m \u001b[31muser\u001b[0m\u001b[97m(-100, 1838)\u001b[0m \u001b[31m_\u001b[0m\u001b[97m(-100, 28730)\u001b[0m \u001b[31mid\u001b[0m\u001b[97m(-100, 313)\u001b[0m \u001b[31m',\u001b[0m\u001b[97m(-100, 647)\u001b[0m \u001b[31m'\u001b[0m\u001b[97m(-100, 464)\u001b[0m \u001b[31mprocess\u001b[0m\u001b[97m(-100, 5226)\u001b[0m \u001b[31m.\u001b[0m\u001b[97m(-100, 28723)\u001b[0m \u001b[31mpid\u001b[0m\u001b[97m(-100, 9507)\u001b[0m \u001b[31m',\u001b[0m\u001b[97m(-100, 647)\u001b[0m \u001b[31m'\u001b[0m\u001b[97m(-100, 464)\u001b[0m \u001b[31mspan\u001b[0m\u001b[97m(-100, 3721)\u001b[0m \u001b[31m.\u001b[0m\u001b[97m(-100, 28723)\u001b[0m \u001b[31mnum\u001b[0m\u001b[97m(-100, 2575)\u001b[0m \u001b[31m_\u001b[0m\u001b[97m(-100, 28730)\u001b[0m \u001b[31mevents\u001b[0m\u001b[97m(-100, 10829)\u001b[0m \u001b[31m',\u001b[0m\u001b[97m(-100, 647)\u001b[0m \u001b[31m'\u001b[0m\u001b[97m(-100, 464)\u001b[0m \u001b[31mprocess\u001b[0m\u001b[97m(-100, 5226)\u001b[0m \u001b[31m.\u001b[0m\u001b[97m(-100, 28723)\u001b[0m \u001b[31mowner\u001b[0m\u001b[97m(-100, 10349)\u001b[0m \u001b[31m',\u001b[0m\u001b[97m(-100, 647)\u001b[0m \u001b[31m'\u001b[0m\u001b[97m(-100, 464)\u001b[0m \u001b[31mparent\u001b[0m\u001b[97m(-100, 3682)\u001b[0m \u001b[31m_\u001b[0m\u001b[97m(-100, 28730)\u001b[0m \u001b[31mname\u001b[0m\u001b[97m(-100, 861)\u001b[0m \u001b[31m',\u001b[0m\u001b[97m(-100, 647)\u001b[0m \u001b[31m'\u001b[0m\u001b[97m(-100, 464)\u001b[0m \u001b[31mhttp\u001b[0m\u001b[97m(-100, 2872)\u001b[0m \u001b[31m.\u001b[0m\u001b[97m(-100, 28723)\u001b[0m \u001b[31mroute\u001b[0m\u001b[97m(-100, 11833)\u001b[0m \u001b[31m',\u001b[0m\u001b[97m(-100, 647)\u001b[0m \u001b[31m'\u001b[0m\u001b[97m(-100, 464)\u001b[0m \u001b[31mstatus\u001b[0m\u001b[97m(-100, 2837)\u001b[0m \u001b[31m_\u001b[0m\u001b[97m(-100, 28730)\u001b[0m \u001b[31mmessage\u001b[0m\u001b[97m(-100, 1324)\u001b[0m \u001b[31m',\u001b[0m\u001b[97m(-100, 647)\u001b[0m \u001b[31m'\u001b[0m\u001b[97m(-100, 464)\u001b[0m \u001b[31mtype\u001b[0m\u001b[97m(-100, 1123)\u001b[0m \u001b[31m',\u001b[0m\u001b[97m(-100, 647)\u001b[0m \u001b[31m'\u001b[0m\u001b[97m(-100, 464)\u001b[0m \u001b[31mspan\u001b[0m\u001b[97m(-100, 3721)\u001b[0m \u001b[31m.\u001b[0m\u001b[97m(-100, 28723)\u001b[0m \u001b[31mkind\u001b[0m\u001b[97m(-100, 9186)\u001b[0m \u001b[31m',\u001b[0m\u001b[97m(-100, 647)\u001b[0m \u001b[31m'\u001b[0m\u001b[97m(-100, 464)\u001b[0m \u001b[31mservice\u001b[0m\u001b[97m(-100, 5134)\u001b[0m \u001b[31m.\u001b[0m\u001b[97m(-100, 28723)\u001b[0m \u001b[31mname\u001b[0m\u001b[97m(-100, 861)\u001b[0m \u001b[31m',\u001b[0m\u001b[97m(-100, 647)\u001b[0m \u001b[31m'\u001b[0m\u001b[97m(-100, 464)\u001b[0m \u001b[31mtele\u001b[0m\u001b[97m(-100, 18720)\u001b[0m \u001b[31mmetry\u001b[0m\u001b[97m(-100, 16641)\u001b[0m \u001b[31m.\u001b[0m\u001b[97m(-100, 28723)\u001b[0m \u001b[31msdk\u001b[0m\u001b[97m(-100, 17287)\u001b[0m \u001b[31m.\u001b[0m\u001b[97m(-100, 28723)\u001b[0m \u001b[31mlanguage\u001b[0m\u001b[97m(-100, 11904)\u001b[0m \u001b[31m',\u001b[0m\u001b[97m(-100, 647)\u001b[0m \u001b[31m'\u001b[0m\u001b[97m(-100, 464)\u001b[0m \u001b[31mmethod\u001b[0m\u001b[97m(-100, 4350)\u001b[0m \u001b[31m',\u001b[0m\u001b[97m(-100, 647)\u001b[0m \u001b[31m'\u001b[0m\u001b[97m(-100, 464)\u001b[0m \u001b[31mhttp\u001b[0m\u001b[97m(-100, 2872)\u001b[0m \u001b[31m.\u001b[0m\u001b[97m(-100, 28723)\u001b[0m \u001b[31mmethod\u001b[0m\u001b[97m(-100, 4350)\u001b[0m \u001b[31m',\u001b[0m\u001b[97m(-100, 647)\u001b[0m \u001b[31m'\u001b[0m\u001b[97m(-100, 464)\u001b[0m \u001b[31mtele\u001b[0m\u001b[97m(-100, 18720)\u001b[0m \u001b[31mmetry\u001b[0m\u001b[97m(-100, 16641)\u001b[0m \u001b[31m.\u001b[0m\u001b[97m(-100, 28723)\u001b[0m \u001b[31msdk\u001b[0m\u001b[97m(-100, 17287)\u001b[0m \u001b[31m.\u001b[0m\u001b[97m(-100, 28723)\u001b[0m \u001b[31mname\u001b[0m\u001b[97m(-100, 861)\u001b[0m \u001b[31m',\u001b[0m\u001b[97m(-100, 647)\u001b[0m \u001b[31m'\u001b[0m\u001b[97m(-100, 464)\u001b[0m \u001b[31mprocess\u001b[0m\u001b[97m(-100, 5226)\u001b[0m \u001b[31m.\u001b[0m\u001b[97m(-100, 28723)\u001b[0m \u001b[31mruntime\u001b[0m\u001b[97m(-100, 8863)\u001b[0m \u001b[31m.\u001b[0m\u001b[97m(-100, 28723)\u001b[0m \u001b[31mdescription\u001b[0m\u001b[97m(-100, 6518)\u001b[0m \u001b[31m',\u001b[0m\u001b[97m(-100, 647)\u001b[0m \u001b[31m'\u001b[0m\u001b[97m(-100, 464)\u001b[0m \u001b[31mprocess\u001b[0m\u001b[97m(-100, 5226)\u001b[0m \u001b[31m.\u001b[0m\u001b[97m(-100, 28723)\u001b[0m \u001b[31mruntime\u001b[0m\u001b[97m(-100, 8863)\u001b[0m \u001b[31m.\u001b[0m\u001b[97m(-100, 28723)\u001b[0m \u001b[31mname\u001b[0m\u001b[97m(-100, 861)\u001b[0m \u001b[31m',\u001b[0m\u001b[97m(-100, 647)\u001b[0m \u001b[31m'\u001b[0m\u001b[97m(-100, 464)\u001b[0m \u001b[31mtele\u001b[0m\u001b[97m(-100, 18720)\u001b[0m \u001b[31mmetry\u001b[0m\u001b[97m(-100, 16641)\u001b[0m \u001b[31m.\u001b[0m\u001b[97m(-100, 28723)\u001b[0m \u001b[31msdk\u001b[0m\u001b[97m(-100, 17287)\u001b[0m \u001b[31m.\u001b[0m\u001b[97m(-100, 28723)\u001b[0m \u001b[31mversion\u001b[0m\u001b[97m(-100, 1790)\u001b[0m \u001b[31m',\u001b[0m\u001b[97m(-100, 647)\u001b[0m \u001b[31m'\u001b[0m\u001b[97m(-100, 464)\u001b[0m \u001b[31mlibrary\u001b[0m\u001b[97m(-100, 16228)\u001b[0m \u001b[31m.\u001b[0m\u001b[97m(-100, 28723)\u001b[0m \u001b[31mname\u001b[0m\u001b[97m(-100, 861)\u001b[0m \u001b[31m',\u001b[0m\u001b[97m(-100, 647)\u001b[0m \u001b[31m'\u001b[0m\u001b[97m(-100, 464)\u001b[0m \u001b[31mspan\u001b[0m\u001b[97m(-100, 3721)\u001b[0m \u001b[31m.\u001b[0m\u001b[97m(-100, 28723)\u001b[0m \u001b[31mnum\u001b[0m\u001b[97m(-100, 2575)\u001b[0m \u001b[31m_\u001b[0m\u001b[97m(-100, 28730)\u001b[0m \u001b[31mlinks\u001b[0m\u001b[97m(-100, 17052)\u001b[0m \u001b[31m',\u001b[0m\u001b[97m(-100, 647)\u001b[0m \u001b[31m'\u001b[0m\u001b[97m(-100, 464)\u001b[0m \u001b[31mprocess\u001b[0m\u001b[97m(-100, 5226)\u001b[0m \u001b[31m.\u001b[0m\u001b[97m(-100, 28723)\u001b[0m \u001b[31mcommand\u001b[0m\u001b[97m(-100, 6123)\u001b[0m \u001b[31m',\u001b[0m\u001b[97m(-100, 647)\u001b[0m \u001b[31m'\u001b[0m\u001b[97m(-100, 464)\u001b[0m \u001b[31mmeta\u001b[0m\u001b[97m(-100, 8301)\u001b[0m \u001b[31m.\u001b[0m\u001b[97m(-100, 28723)\u001b[0m \u001b[31msignal\u001b[0m\u001b[97m(-100, 16530)\u001b[0m \u001b[31m_\u001b[0m\u001b[97m(-100, 28730)\u001b[0m \u001b[31mtype\u001b[0m\u001b[97m(-100, 1123)\u001b[0m \u001b[31m',\u001b[0m\u001b[97m(-100, 647)\u001b[0m \u001b[31m'\u001b[0m\u001b[97m(-100, 464)\u001b[0m \u001b[31mstatus\u001b[0m\u001b[97m(-100, 2837)\u001b[0m \u001b[31m_\u001b[0m\u001b[97m(-100, 28730)\u001b[0m \u001b[31mcode\u001b[0m\u001b[97m(-100, 1409)\u001b[0m \u001b[31m',\u001b[0m\u001b[97m(-100, 647)\u001b[0m \u001b[31m'\u001b[0m\u001b[97m(-100, 464)\u001b[0m \u001b[31mprocess\u001b[0m\u001b[97m(-100, 5226)\u001b[0m \u001b[31m.\u001b[0m\u001b[97m(-100, 28723)\u001b[0m \u001b[31mruntime\u001b[0m\u001b[97m(-100, 8863)\u001b[0m \u001b[31m.\u001b[0m\u001b[97m(-100, 28723)\u001b[0m \u001b[31mversion\u001b[0m\u001b[97m(-100, 1790)\u001b[0m \u001b[31m',\u001b[0m\u001b[97m(-100, 647)\u001b[0m \u001b[31m'\u001b[0m\u001b[97m(-100, 464)\u001b[0m \u001b[31mprocess\u001b[0m\u001b[97m(-100, 5226)\u001b[0m \u001b[31m.\u001b[0m\u001b[97m(-100, 28723)\u001b[0m \u001b[31mcommand\u001b[0m\u001b[97m(-100, 6123)\u001b[0m \u001b[31m_\u001b[0m\u001b[97m(-100, 28730)\u001b[0m \u001b[31margs\u001b[0m\u001b[97m(-100, 3087)\u001b[0m \u001b[31m',\u001b[0m\u001b[97m(-100, 647)\u001b[0m \u001b[31m'\u001b[0m\u001b[97m(-100, 464)\u001b[0m \u001b[31mprocess\u001b[0m\u001b[97m(-100, 5226)\u001b[0m \u001b[31m.\u001b[0m\u001b[97m(-100, 28723)\u001b[0m \u001b[31mexecut\u001b[0m\u001b[97m(-100, 15873)\u001b[0m \u001b[31mable\u001b[0m\u001b[97m(-100, 522)\u001b[0m \u001b[31m.\u001b[0m\u001b[97m(-100, 28723)\u001b[0m \u001b[31mpath\u001b[0m\u001b[97m(-100, 1740)\u001b[0m \u001b[31m',\u001b[0m\u001b[97m(-100, 647)\u001b[0m \u001b[31m'\u001b[0m\u001b[97m(-100, 464)\u001b[0m \u001b[31mhttp\u001b[0m\u001b[97m(-100, 2872)\u001b[0m \u001b[31m.\u001b[0m\u001b[97m(-100, 28723)\u001b[0m \u001b[31mstatus\u001b[0m\u001b[97m(-100, 2837)\u001b[0m \u001b[31m_\u001b[0m\u001b[97m(-100, 28730)\u001b[0m \u001b[31mcode\u001b[0m\u001b[97m(-100, 1409)\u001b[0m \u001b[31m',\u001b[0m\u001b[97m(-100, 647)\u001b[0m \u001b[31m'\u001b[0m\u001b[97m(-100, 464)\u001b[0m \u001b[31mprocess\u001b[0m\u001b[97m(-100, 5226)\u001b[0m \u001b[31m.\u001b[0m\u001b[97m(-100, 28723)\u001b[0m \u001b[31mexecut\u001b[0m\u001b[97m(-100, 15873)\u001b[0m \u001b[31mable\u001b[0m\u001b[97m(-100, 522)\u001b[0m \u001b[31m.\u001b[0m\u001b[97m(-100, 28723)\u001b[0m \u001b[31mname\u001b[0m\u001b[97m(-100, 861)\u001b[0m \u001b[31m',\u001b[0m\u001b[97m(-100, 647)\u001b[0m \u001b[31m'\u001b[0m\u001b[97m(-100, 464)\u001b[0m \u001b[31mmeta\u001b[0m\u001b[97m(-100, 8301)\u001b[0m \u001b[31m.\u001b[0m\u001b[97m(-100, 28723)\u001b[0m \u001b[31mannotation\u001b[0m\u001b[97m(-100, 10066)\u001b[0m \u001b[31m_\u001b[0m\u001b[97m(-100, 28730)\u001b[0m \u001b[31mtype\u001b[0m\u001b[97m(-100, 1123)\u001b[0m \u001b[31m']\u001b[0m\u001b[97m(-100, 1421)\u001b[0m \u001b[31m<0x0A>\u001b[0m\u001b[97m(-100, 13)\u001b[0m \u001b[31m<0x0A>\u001b[0m\u001b[97m(-100, 13)\u001b[0m \u001b[31m###\u001b[0m\u001b[97m(-100, 774)\u001b[0m \u001b[31mResponse\u001b[0m\u001b[97m(-100, 12107)\u001b[0m \u001b[31m:\u001b[0m\u001b[97m(-100, 28747)\u001b[0m \u001b[32m\u001b[0m\u001b[97m(28705, 28705)\u001b[0m \u001b[32m<0x0A>\u001b[0m\u001b[97m(13, 13)\u001b[0m \u001b[32m{\"\u001b[0m\u001b[97m(6799, 6799)\u001b[0m \u001b[32mtime\u001b[0m\u001b[97m(1536, 1536)\u001b[0m \u001b[32m_\u001b[0m\u001b[97m(28730, 28730)\u001b[0m \u001b[32mrange\u001b[0m\u001b[97m(6347, 6347)\u001b[0m \u001b[32m\":\u001b[0m\u001b[97m(1264, 1264)\u001b[0m \u001b[32m\u001b[0m\u001b[97m(28705, 28705)\u001b[0m \u001b[32m3\u001b[0m\u001b[97m(28770, 28770)\u001b[0m \u001b[32m0\u001b[0m\u001b[97m(28734, 28734)\u001b[0m \u001b[32m0\u001b[0m\u001b[97m(28734, 28734)\u001b[0m \u001b[32m,\u001b[0m\u001b[97m(28725, 28725)\u001b[0m \u001b[32m\"\u001b[0m\u001b[97m(345, 345)\u001b[0m \u001b[32mbreak\u001b[0m\u001b[97m(2876, 2876)\u001b[0m \u001b[32mdown\u001b[0m\u001b[97m(3254, 3254)\u001b[0m \u001b[32ms\u001b[0m\u001b[97m(28713, 28713)\u001b[0m \u001b[32m\":\u001b[0m\u001b[97m(1264, 1264)\u001b[0m \u001b[32m[\"\u001b[0m\u001b[97m(7367, 7367)\u001b[0m \u001b[32mtrace\u001b[0m\u001b[97m(9213, 9213)\u001b[0m \u001b[32m.\u001b[0m\u001b[97m(28723, 28723)\u001b[0m \u001b[32mtrace\u001b[0m\u001b[97m(9213, 9213)\u001b[0m \u001b[32m_\u001b[0m\u001b[97m(28730, 28730)\u001b[0m \u001b[32mid\u001b[0m\u001b[97m(313, 313)\u001b[0m \u001b[32m\"],\u001b[0m\u001b[97m(8883, 8883)\u001b[0m \u001b[32m\"\u001b[0m\u001b[97m(345, 345)\u001b[0m \u001b[32mcal\u001b[0m\u001b[97m(1391, 1391)\u001b[0m \u001b[32mcul\u001b[0m\u001b[97m(2320, 2320)\u001b[0m \u001b[32mations\u001b[0m\u001b[97m(697, 697)\u001b[0m \u001b[32m\":\u001b[0m\u001b[97m(1264, 1264)\u001b[0m \u001b[32m[\u001b[0m\u001b[97m(733, 733)\u001b[0m \u001b[32m{\"\u001b[0m\u001b[97m(6799, 6799)\u001b[0m \u001b[32mop\u001b[0m\u001b[97m(410, 410)\u001b[0m \u001b[32m\":\u001b[0m\u001b[97m(1264, 1264)\u001b[0m \u001b[32m\"\u001b[0m\u001b[97m(345, 345)\u001b[0m \u001b[32mCOUNT\u001b[0m\u001b[97m(14167, 14167)\u001b[0m \u001b[32m\"}\u001b[0m\u001b[97m(17395, 17395)\u001b[0m \u001b[32m],\u001b[0m\u001b[97m(1181, 1181)\u001b[0m \u001b[32m\"\u001b[0m\u001b[97m(345, 345)\u001b[0m \u001b[32mfilters\u001b[0m\u001b[97m(16867, 16867)\u001b[0m \u001b[32m\":\u001b[0m\u001b[97m(1264, 1264)\u001b[0m \u001b[32m[\u001b[0m\u001b[97m(733, 733)\u001b[0m \u001b[32m{\"\u001b[0m\u001b[97m(6799, 6799)\u001b[0m \u001b[32mcolumn\u001b[0m\u001b[97m(5571, 5571)\u001b[0m \u001b[32m\":\u001b[0m\u001b[97m(1264, 1264)\u001b[0m \u001b[32m\"\u001b[0m\u001b[97m(345, 345)\u001b[0m \u001b[32mtrace\u001b[0m\u001b[97m(9213, 9213)\u001b[0m \u001b[32m.\u001b[0m\u001b[97m(28723, 28723)\u001b[0m \u001b[32mtrace\u001b[0m\u001b[97m(9213, 9213)\u001b[0m \u001b[32m_\u001b[0m\u001b[97m(28730, 28730)\u001b[0m \u001b[32mid\u001b[0m\u001b[97m(313, 313)\u001b[0m \u001b[32m\",\u001b[0m\u001b[97m(548, 548)\u001b[0m \u001b[32m\"\u001b[0m\u001b[97m(345, 345)\u001b[0m \u001b[32mop\u001b[0m\u001b[97m(410, 410)\u001b[0m \u001b[32m\":\u001b[0m\u001b[97m(1264, 1264)\u001b[0m \u001b[32m\"\u001b[0m\u001b[97m(345, 345)\u001b[0m \u001b[32mexists\u001b[0m\u001b[97m(10600, 10600)\u001b[0m \u001b[32m\"}\u001b[0m\u001b[97m(17395, 17395)\u001b[0m \u001b[32m],\u001b[0m\u001b[97m(1181, 1181)\u001b[0m \u001b[32m\"\u001b[0m\u001b[97m(345, 345)\u001b[0m \u001b[32morders\u001b[0m\u001b[97m(10486, 10486)\u001b[0m \u001b[32m\":\u001b[0m\u001b[97m(1264, 1264)\u001b[0m \u001b[32m[\u001b[0m\u001b[97m(733, 733)\u001b[0m \u001b[32m{\"\u001b[0m\u001b[97m(6799, 6799)\u001b[0m \u001b[32mop\u001b[0m\u001b[97m(410, 410)\u001b[0m \u001b[32m\":\u001b[0m\u001b[97m(1264, 1264)\u001b[0m \u001b[32m\"\u001b[0m\u001b[97m(345, 345)\u001b[0m \u001b[32mCOUNT\u001b[0m\u001b[97m(14167, 14167)\u001b[0m \u001b[32m\",\u001b[0m\u001b[97m(548, 548)\u001b[0m \u001b[32m\"\u001b[0m\u001b[97m(345, 345)\u001b[0m \u001b[32morder\u001b[0m\u001b[97m(2274, 2274)\u001b[0m \u001b[32m\":\u001b[0m\u001b[97m(1264, 1264)\u001b[0m \u001b[32m\"\u001b[0m\u001b[97m(345, 345)\u001b[0m \u001b[32mdesc\u001b[0m\u001b[97m(5916, 5916)\u001b[0m \u001b[32mending\u001b[0m\u001b[97m(2570, 2570)\u001b[0m \u001b[32m\"}\u001b[0m\u001b[97m(17395, 17395)\u001b[0m \u001b[32m]}\u001b[0m\u001b[97m(9205, 9205)\u001b[0m \u001b[32m</s>\u001b[0m\u001b[97m(2, 2)\u001b[0m\u001b[39m\n",
      "[2024-05-16 21:42:42,528] [INFO] [axolotl.check_example_labels:38] [PID:766298] [RANK:0] \n",
      "\n",
      "\n",
      "\u001b[39m\n",
      "[2024-05-16 21:42:42,528] [INFO] [axolotl.scripts.load_datasets:415] [PID:766298] [RANK:0] printing prompters...\u001b[39m\n",
      "[2024-05-16 21:42:42,528] [INFO] [axolotl.scripts.load_datasets:417] [PID:766298] [RANK:0] Pre-tokenized or custom dataset types are unsupported for logging\u001b[39m\n",
      "[2024-05-16 21:42:42,533] [INFO] [axolotl.cli.preprocess.do_cli:62] [PID:766298] [RANK:0] \u001b[32mSuccess! Preprocessed data path: `dataset_prepared_path: last_run_prepared`\u001b[39m\u001b[39m\n",
      "\u001b[0m"
     ]
    }
   ],
   "source": [
    "! python -m axolotl.cli.preprocess hc.yml --debug"
   ]
  },
  {
   "cell_type": "markdown",
   "id": "adab233f-fb90-4226-b0c7-f65031155c4c",
   "metadata": {},
   "source": [
    "## Look at special tokens\n",
    "\n",
    "Ex: What is `<0x0A>`?"
   ]
  },
  {
   "cell_type": "code",
   "execution_count": 41,
   "id": "c1025600-a2fc-4a7e-8a0e-66aa7cdc0691",
   "metadata": {},
   "outputs": [
    {
     "data": {
      "text/plain": [
       "'\\n'"
      ]
     },
     "execution_count": 41,
     "metadata": {},
     "output_type": "execute_result"
    }
   ],
   "source": [
    "tok.decode([13])"
   ]
  },
  {
   "cell_type": "markdown",
   "id": "b13e6ca7-adf9-4b1d-849e-6b3267371841",
   "metadata": {},
   "source": [
    "**But where is the space coming from?**"
   ]
  },
  {
   "cell_type": "code",
   "execution_count": 42,
   "id": "d6a4bd50-0dd4-47f7-a47c-873f21b18f25",
   "metadata": {},
   "outputs": [
    {
     "data": {
      "text/plain": [
       "'###'"
      ]
     },
     "execution_count": 42,
     "metadata": {},
     "output_type": "execute_result"
    }
   ],
   "source": [
    "tok.decode(774)"
   ]
  },
  {
   "cell_type": "markdown",
   "id": "3fbbd9c6-05c0-41b6-bac0-d0acf4667b84",
   "metadata": {},
   "source": [
    "**It's pretty confusing!  See [this blog post](https://hamel.dev/notes/llm/finetuning/05_tokenizer_gotchas.html)**\n",
    "\n",
    "What does Wing think?"
   ]
  },
  {
   "cell_type": "code",
   "execution_count": null,
   "id": "3781e472-e120-4f9b-867b-9adc602d7135",
   "metadata": {},
   "outputs": [],
   "source": []
  }
 ],
 "metadata": {
  "kernelspec": {
   "display_name": "Python 3 (ipykernel)",
   "language": "python",
   "name": "python3"
  },
  "language_info": {
   "codemirror_mode": {
    "name": "ipython",
    "version": 3
   },
   "file_extension": ".py",
   "mimetype": "text/x-python",
   "name": "python",
   "nbconvert_exporter": "python",
   "pygments_lexer": "ipython3",
   "version": "3.10.14"
  }
 },
 "nbformat": 4,
 "nbformat_minor": 5
}
